{
 "cells": [
  {
   "cell_type": "code",
   "execution_count": 1,
   "id": "641bdca1",
   "metadata": {},
   "outputs": [
    {
     "name": "stderr",
     "output_type": "stream",
     "text": [
      "/home/john/miniconda3/lib/python3.10/site-packages/scipy/__init__.py:146: UserWarning: A NumPy version >=1.16.5 and <1.23.0 is required for this version of SciPy (detected version 1.23.5\n",
      "  warnings.warn(f\"A NumPy version >={np_minversion} and <{np_maxversion}\"\n"
     ]
    }
   ],
   "source": [
    "# Import necessary libraries\n",
    "import pandas as pd\n",
    "from sklearn.decomposition import PCA\n",
    "from sklearn.preprocessing import StandardScaler\n",
    "import plotly.express as px\n",
    "\n",
    "import ipywidgets as widgets\n",
    "from IPython.display import display, clear_output"
   ]
  },
  {
   "cell_type": "code",
   "execution_count": 2,
   "id": "8c2b2855",
   "metadata": {},
   "outputs": [],
   "source": [
    "# Load data\n",
    "df = pd.read_excel('test.xlsx')\n",
    "#list(df)"
   ]
  },
  {
   "cell_type": "code",
   "execution_count": 5,
   "id": "e19482b1",
   "metadata": {},
   "outputs": [
    {
     "data": {
      "text/html": [
       "<div>\n",
       "<style scoped>\n",
       "    .dataframe tbody tr th:only-of-type {\n",
       "        vertical-align: middle;\n",
       "    }\n",
       "\n",
       "    .dataframe tbody tr th {\n",
       "        vertical-align: top;\n",
       "    }\n",
       "\n",
       "    .dataframe thead th {\n",
       "        text-align: right;\n",
       "    }\n",
       "</style>\n",
       "<table border=\"1\" class=\"dataframe\">\n",
       "  <thead>\n",
       "    <tr style=\"text-align: right;\">\n",
       "      <th></th>\n",
       "      <th>ID</th>\n",
       "      <th>Name</th>\n",
       "      <th>Manufacturer</th>\n",
       "      <th>Silica type</th>\n",
       "      <th>H</th>\n",
       "      <th>S*</th>\n",
       "      <th>A</th>\n",
       "      <th>B</th>\n",
       "      <th>C (pH 2.8)</th>\n",
       "      <th>C (pH 7.0)</th>\n",
       "      <th>EB retention factor</th>\n",
       "      <th>USP type</th>\n",
       "      <th>Phase type</th>\n",
       "      <th>PC1</th>\n",
       "      <th>PC2</th>\n",
       "    </tr>\n",
       "  </thead>\n",
       "  <tbody>\n",
       "    <tr>\n",
       "      <th>0</th>\n",
       "      <td>93</td>\n",
       "      <td>Acclaim 120 C18</td>\n",
       "      <td>Dionex</td>\n",
       "      <td>B</td>\n",
       "      <td>1.030</td>\n",
       "      <td>0.010</td>\n",
       "      <td>-0.140</td>\n",
       "      <td>-0.020</td>\n",
       "      <td>0.080</td>\n",
       "      <td>0.000</td>\n",
       "      <td>10.10</td>\n",
       "      <td>L1</td>\n",
       "      <td>C18</td>\n",
       "      <td>-0.976386</td>\n",
       "      <td>0.646713</td>\n",
       "    </tr>\n",
       "    <tr>\n",
       "      <th>1</th>\n",
       "      <td>94</td>\n",
       "      <td>Acclaim 120 C8</td>\n",
       "      <td>Dionex</td>\n",
       "      <td>B</td>\n",
       "      <td>0.850</td>\n",
       "      <td>0.000</td>\n",
       "      <td>-0.270</td>\n",
       "      <td>0.010</td>\n",
       "      <td>0.080</td>\n",
       "      <td>0.010</td>\n",
       "      <td>6.00</td>\n",
       "      <td>L7</td>\n",
       "      <td>C8</td>\n",
       "      <td>0.074983</td>\n",
       "      <td>0.391974</td>\n",
       "    </tr>\n",
       "    <tr>\n",
       "      <th>2</th>\n",
       "      <td>628</td>\n",
       "      <td>Acclaim C30</td>\n",
       "      <td>Thermo/Hypersil</td>\n",
       "      <td>B</td>\n",
       "      <td>0.973</td>\n",
       "      <td>-0.022</td>\n",
       "      <td>-0.126</td>\n",
       "      <td>0.004</td>\n",
       "      <td>0.353</td>\n",
       "      <td>0.320</td>\n",
       "      <td>5.52</td>\n",
       "      <td>L62</td>\n",
       "      <td>C30</td>\n",
       "      <td>-0.743032</td>\n",
       "      <td>-0.059834</td>\n",
       "    </tr>\n",
       "    <tr>\n",
       "      <th>3</th>\n",
       "      <td>756</td>\n",
       "      <td>Acclaim Mixed-Mode HILIC-1</td>\n",
       "      <td>Thermo/Hypersil</td>\n",
       "      <td>B</td>\n",
       "      <td>0.517</td>\n",
       "      <td>-0.086</td>\n",
       "      <td>0.000</td>\n",
       "      <td>0.126</td>\n",
       "      <td>0.067</td>\n",
       "      <td>0.893</td>\n",
       "      <td>1.70</td>\n",
       "      <td>L60</td>\n",
       "      <td>EP</td>\n",
       "      <td>1.571240</td>\n",
       "      <td>-0.837081</td>\n",
       "    </tr>\n",
       "    <tr>\n",
       "      <th>4</th>\n",
       "      <td>757</td>\n",
       "      <td>Acclaim Mixed-Mode WCX-1</td>\n",
       "      <td>Thermo/Hypersil</td>\n",
       "      <td>B</td>\n",
       "      <td>0.432</td>\n",
       "      <td>-0.099</td>\n",
       "      <td>-0.606</td>\n",
       "      <td>0.168</td>\n",
       "      <td>-0.156</td>\n",
       "      <td>0.990</td>\n",
       "      <td>1.50</td>\n",
       "      <td>L60</td>\n",
       "      <td>EP</td>\n",
       "      <td>3.538626</td>\n",
       "      <td>-0.337766</td>\n",
       "    </tr>\n",
       "    <tr>\n",
       "      <th>5</th>\n",
       "      <td>97</td>\n",
       "      <td>Acclaim Organic Acid</td>\n",
       "      <td>Dionex</td>\n",
       "      <td>other</td>\n",
       "      <td>0.830</td>\n",
       "      <td>-0.060</td>\n",
       "      <td>-0.380</td>\n",
       "      <td>0.000</td>\n",
       "      <td>-0.310</td>\n",
       "      <td>0.340</td>\n",
       "      <td>6.70</td>\n",
       "      <td></td>\n",
       "      <td>Other</td>\n",
       "      <td>0.857792</td>\n",
       "      <td>0.297208</td>\n",
       "    </tr>\n",
       "    <tr>\n",
       "      <th>6</th>\n",
       "      <td>629</td>\n",
       "      <td>Acclaim Phenyl-1</td>\n",
       "      <td>Thermo/Hypersil</td>\n",
       "      <td>phenyl</td>\n",
       "      <td>0.689</td>\n",
       "      <td>-0.150</td>\n",
       "      <td>-0.548</td>\n",
       "      <td>0.068</td>\n",
       "      <td>0.013</td>\n",
       "      <td>0.150</td>\n",
       "      <td>4.27</td>\n",
       "      <td>L11</td>\n",
       "      <td>Phenyl</td>\n",
       "      <td>2.193622</td>\n",
       "      <td>-0.953418</td>\n",
       "    </tr>\n",
       "    <tr>\n",
       "      <th>7</th>\n",
       "      <td>96</td>\n",
       "      <td>Acclaim Polar Advantage</td>\n",
       "      <td>Dionex</td>\n",
       "      <td>EP</td>\n",
       "      <td>0.850</td>\n",
       "      <td>-0.060</td>\n",
       "      <td>-0.110</td>\n",
       "      <td>0.020</td>\n",
       "      <td>-0.270</td>\n",
       "      <td>0.350</td>\n",
       "      <td>6.80</td>\n",
       "      <td>L60</td>\n",
       "      <td>EP</td>\n",
       "      <td>0.301811</td>\n",
       "      <td>0.187884</td>\n",
       "    </tr>\n",
       "    <tr>\n",
       "      <th>8</th>\n",
       "      <td>98</td>\n",
       "      <td>Acclaim PolarAdvantage II</td>\n",
       "      <td>Dionex</td>\n",
       "      <td>EP</td>\n",
       "      <td>0.740</td>\n",
       "      <td>0.010</td>\n",
       "      <td>-0.550</td>\n",
       "      <td>0.210</td>\n",
       "      <td>-0.220</td>\n",
       "      <td>0.670</td>\n",
       "      <td>6.30</td>\n",
       "      <td>L60</td>\n",
       "      <td>EP</td>\n",
       "      <td>2.189617</td>\n",
       "      <td>1.497586</td>\n",
       "    </tr>\n",
       "    <tr>\n",
       "      <th>9</th>\n",
       "      <td>95</td>\n",
       "      <td>Acclaim300 C18</td>\n",
       "      <td>Dionex</td>\n",
       "      <td>B</td>\n",
       "      <td>0.950</td>\n",
       "      <td>-0.010</td>\n",
       "      <td>-0.170</td>\n",
       "      <td>0.010</td>\n",
       "      <td>0.260</td>\n",
       "      <td>0.220</td>\n",
       "      <td>2.90</td>\n",
       "      <td>L1</td>\n",
       "      <td>C18</td>\n",
       "      <td>-0.536415</td>\n",
       "      <td>0.183463</td>\n",
       "    </tr>\n",
       "  </tbody>\n",
       "</table>\n",
       "</div>"
      ],
      "text/plain": [
       "    ID                        Name     Manufacturer Silica type      H     S*  \\\n",
       "0   93             Acclaim 120 C18           Dionex           B  1.030  0.010   \n",
       "1   94              Acclaim 120 C8           Dionex           B  0.850  0.000   \n",
       "2  628                 Acclaim C30  Thermo/Hypersil           B  0.973 -0.022   \n",
       "3  756  Acclaim Mixed-Mode HILIC-1  Thermo/Hypersil           B  0.517 -0.086   \n",
       "4  757    Acclaim Mixed-Mode WCX-1  Thermo/Hypersil           B  0.432 -0.099   \n",
       "5   97        Acclaim Organic Acid           Dionex       other  0.830 -0.060   \n",
       "6  629            Acclaim Phenyl-1  Thermo/Hypersil      phenyl  0.689 -0.150   \n",
       "7   96     Acclaim Polar Advantage           Dionex          EP  0.850 -0.060   \n",
       "8   98   Acclaim PolarAdvantage II           Dionex          EP  0.740  0.010   \n",
       "9   95              Acclaim300 C18           Dionex           B  0.950 -0.010   \n",
       "\n",
       "       A      B  C (pH 2.8)  C (pH 7.0)  EB retention factor USP type  \\\n",
       "0 -0.140 -0.020       0.080       0.000                10.10       L1   \n",
       "1 -0.270  0.010       0.080       0.010                 6.00       L7   \n",
       "2 -0.126  0.004       0.353       0.320                 5.52      L62   \n",
       "3  0.000  0.126       0.067       0.893                 1.70      L60   \n",
       "4 -0.606  0.168      -0.156       0.990                 1.50      L60   \n",
       "5 -0.380  0.000      -0.310       0.340                 6.70            \n",
       "6 -0.548  0.068       0.013       0.150                 4.27      L11   \n",
       "7 -0.110  0.020      -0.270       0.350                 6.80      L60   \n",
       "8 -0.550  0.210      -0.220       0.670                 6.30      L60   \n",
       "9 -0.170  0.010       0.260       0.220                 2.90       L1   \n",
       "\n",
       "  Phase type       PC1       PC2  \n",
       "0        C18 -0.976386  0.646713  \n",
       "1         C8  0.074983  0.391974  \n",
       "2        C30 -0.743032 -0.059834  \n",
       "3         EP  1.571240 -0.837081  \n",
       "4         EP  3.538626 -0.337766  \n",
       "5      Other  0.857792  0.297208  \n",
       "6     Phenyl  2.193622 -0.953418  \n",
       "7         EP  0.301811  0.187884  \n",
       "8         EP  2.189617  1.497586  \n",
       "9        C18 -0.536415  0.183463  "
      ]
     },
     "execution_count": 5,
     "metadata": {},
     "output_type": "execute_result"
    }
   ],
   "source": [
    "df.head(10)"
   ]
  },
  {
   "cell_type": "code",
   "execution_count": 3,
   "id": "542688eb",
   "metadata": {},
   "outputs": [],
   "source": [
    "# We will only use the following columns\n",
    "numeric_cols = [\"H\", \"S*\", \"A\", \"B\", \"C (pH 2.8)\"]\n",
    "\n",
    "# Standardize the data\n",
    "scaler = StandardScaler()\n",
    "scaled_df = scaler.fit_transform(df[numeric_cols])\n",
    "\n",
    "# Apply PCA\n",
    "pca = PCA(n_components=2)  # Here we choose to keep 2 components\n",
    "principal_components = pca.fit_transform(scaled_df)\n",
    "\n",
    "# Add the principal components to the dataframe\n",
    "df['PC1'] = principal_components[:, 0]\n",
    "df['PC2'] = principal_components[:, 1]"
   ]
  },
  {
   "cell_type": "code",
   "execution_count": 4,
   "id": "1cacd0db",
   "metadata": {},
   "outputs": [
    {
     "data": {
      "application/vnd.jupyter.widget-view+json": {
       "model_id": "c0d259d22de8407ea093f826adcc6be0",
       "version_major": 2,
       "version_minor": 0
      },
      "text/plain": [
       "Dropdown(description='Manufacturer:', options=('All', 'Dionex', 'Thermo/Hypersil', 'ACT', 'Waters', 'SepaChrom…"
      ]
     },
     "metadata": {},
     "output_type": "display_data"
    },
    {
     "data": {
      "application/vnd.jupyter.widget-view+json": {
       "model_id": "120c198cc48c4f1ea5bff2a2d120f096",
       "version_major": 2,
       "version_minor": 0
      },
      "text/plain": [
       "Dropdown(description='Silica type:', options=('All', 'B', 'other', 'phenyl', 'EP', 'F', 'CN', 'A', 'Other', 'C…"
      ]
     },
     "metadata": {},
     "output_type": "display_data"
    },
    {
     "data": {
      "application/vnd.jupyter.widget-view+json": {
       "model_id": "46a142a39dd948958c661d2f538a7a46",
       "version_major": 2,
       "version_minor": 0
      },
      "text/plain": [
       "Dropdown(description='USP type:', options=('All', 'L1', 'L7', 'L62', 'L60', '\\xa0', 'L11', 'L26', 'L43', 'L10'…"
      ]
     },
     "metadata": {},
     "output_type": "display_data"
    },
    {
     "data": {
      "application/vnd.jupyter.widget-view+json": {
       "model_id": "899033d6a91b4358b5744ad953ba56c7",
       "version_major": 2,
       "version_minor": 0
      },
      "text/plain": [
       "Dropdown(description='Phase type:', options=('All', 'C18', 'C8', 'C30', 'EP', 'Other', 'Phenyl', 'C4', 'phenyl…"
      ]
     },
     "metadata": {},
     "output_type": "display_data"
    },
    {
     "data": {
      "application/vnd.jupyter.widget-view+json": {
       "model_id": "913c66a77d4b4bb09a3b50a38ff269b7",
       "version_major": 2,
       "version_minor": 0
      },
      "text/plain": [
       "Text(value='-', description='Search:')"
      ]
     },
     "metadata": {},
     "output_type": "display_data"
    },
    {
     "data": {
      "application/vnd.jupyter.widget-view+json": {
       "model_id": "bd3f8c86be0a4b71af34af566bd13659",
       "version_major": 2,
       "version_minor": 0
      },
      "text/plain": [
       "Button(description='Press to search', style=ButtonStyle())"
      ]
     },
     "metadata": {},
     "output_type": "display_data"
    },
    {
     "data": {
      "application/vnd.plotly.v1+json": {
       "config": {
        "plotlyServerURL": "https://plot.ly"
       },
       "data": [
        {
         "customdata": [
          [
           "Acclaim 120 C18"
          ],
          [
           "Acclaim 120 C8"
          ],
          [
           "Acclaim C30"
          ],
          [
           "Acclaim Organic Acid"
          ],
          [
           "Acclaim Polar Advantage"
          ],
          [
           "Acclaim PolarAdvantage II"
          ],
          [
           "Acclaim300 C18"
          ],
          [
           "Accucore aQ"
          ],
          [
           "Accucore Biphenyl"
          ],
          [
           "Accucore C18"
          ],
          [
           "Accucore C30"
          ],
          [
           "Accucore C8"
          ],
          [
           "Accucore PFP"
          ],
          [
           "Accucore Polar Premium"
          ],
          [
           "Accucore XL C18"
          ],
          [
           "Accucore XL C8"
          ],
          [
           "ACE 5 AQ"
          ],
          [
           "ACE 5 C18"
          ],
          [
           "ACE 5 C4"
          ],
          [
           "ACE 5 C8"
          ],
          [
           "ACE 5 CN"
          ],
          [
           "ACE 5 Phenyl"
          ],
          [
           "Acquity UPLC BEH C18"
          ],
          [
           "Acquity UPLC BEH C8"
          ],
          [
           "Acquity UPLC BEH Phenyl"
          ],
          [
           "Acquity UPLC CSH C18"
          ],
          [
           "Adsorbosphere C18"
          ],
          [
           "Adsorpbosphere UHS C18"
          ],
          [
           "Advantage 300"
          ],
          [
           "Advantage Armor C18 120A"
          ],
          [
           "Agilent 5 Prep C18 Scalar"
          ],
          [
           "Allsphere ODS1"
          ],
          [
           "Allsphere ODS2"
          ],
          [
           "Alltima AQ"
          ],
          [
           "Alltima C18"
          ],
          [
           "Alltima C8"
          ],
          [
           "Alltima HP C18"
          ],
          [
           "Alltima HP C18 Amide"
          ],
          [
           "Alltima HP C18 EPS"
          ],
          [
           "Alltima HP C18 High Load"
          ],
          [
           "Alltima HP C8"
          ],
          [
           "Alltima HP CN"
          ],
          [
           "Allure Aqueous C18"
          ],
          [
           "Allure Basix"
          ],
          [
           "Allure Biphenyl"
          ],
          [
           "Allure C18"
          ],
          [
           "Allure Organic Acids"
          ],
          [
           "Allure PFP Propyl"
          ],
          [
           "Alphabond (C18)"
          ],
          [
           "Apex C18"
          ],
          [
           "Apex C8"
          ],
          [
           "Apex II C18"
          ],
          [
           "apHera C18 Polymer"
          ],
          [
           "Aqua C18"
          ],
          [
           "Aquasil C18"
          ],
          [
           "Armor C18 3um"
          ],
          [
           "Ascentis C18"
          ],
          [
           "Ascentis C8"
          ],
          [
           "Ascentis ES Cyano"
          ],
          [
           "Ascentis Express 5 C18"
          ],
          [
           "Ascentis Express 5 F5"
          ],
          [
           "Ascentis Express Biphenyl"
          ],
          [
           "Ascentis Express C18"
          ],
          [
           "Ascentis Express C8"
          ],
          [
           "Ascentis Express F5"
          ],
          [
           "Ascentis Phenyl"
          ],
          [
           "Athena C18"
          ],
          [
           "Athena C8"
          ],
          [
           "Athena Phenyl"
          ],
          [
           "Atlantis dC18"
          ],
          [
           "Atlantis T3"
          ],
          [
           "Balancil C18"
          ],
          [
           "BetaBasic CN"
          ],
          [
           "BetaBasic Phenyl"
          ],
          [
           "BetaMax Acid"
          ],
          [
           "BetaMax Base"
          ],
          [
           "Betasil C18"
          ],
          [
           "Betasil C18"
          ],
          [
           "Betasil C8"
          ],
          [
           "BioBasic 4"
          ],
          [
           "BioBasic CN"
          ],
          [
           "BioBasic Phenyl"
          ],
          [
           "Biobond C18"
          ],
          [
           "Biobond C4"
          ],
          [
           "Biobond C8"
          ],
          [
           "BioResolve RP mAb"
          ],
          [
           "BIOshell A160 Peptide C18"
          ],
          [
           "BIOshell A160 Peptide CN"
          ],
          [
           "BIOshell A400 Protein C18"
          ],
          [
           "BIOshell A400 Protein C4"
          ],
          [
           "Bondclone C18"
          ],
          [
           "Brava BDS C18"
          ],
          [
           "CAPCELL C18 ACR"
          ],
          [
           "CAPCELL C18 AG120"
          ],
          [
           "CAPCELL C18 AQ"
          ],
          [
           "CAPCELL C18 MG"
          ],
          [
           "CAPCELL C18 SG120"
          ],
          [
           "CAPCELL C18 UG120"
          ],
          [
           "Capcell Pak C18 IF"
          ],
          [
           "Capcell Pak C18 MG III"
          ],
          [
           "Capcell Pak C18 MGII"
          ],
          [
           "CAPCELL PAK C8 DD"
          ],
          [
           "CAPCELL PAK C8 UG120"
          ],
          [
           "Chromegabond WR C18"
          ],
          [
           "Chromegabond WR C8"
          ],
          [
           "Chromolith RP18e"
          ],
          [
           "Clipeus C18"
          ],
          [
           "Clipeus C8"
          ],
          [
           "Clipeus Cyano"
          ],
          [
           "Clipeus Phenyl"
          ],
          [
           "Cogent Bidentate C18"
          ],
          [
           "Cogent Bidentate C8"
          ],
          [
           "Cogent HPS C18"
          ],
          [
           "Cogent hQ C18"
          ],
          [
           "Cogent UDC Cholesterol"
          ],
          [
           "Cortecs C18"
          ],
          [
           "Cortecs C18+"
          ],
          [
           "Cortecs C8"
          ],
          [
           "Cortecs Phenyl"
          ],
          [
           "Cortecs T3"
          ],
          [
           "Cortecs UPLC Shield RP18"
          ],
          [
           "Cosmicsil Abra C18"
          ],
          [
           "Cosmicsil Adore 100 CN"
          ],
          [
           "Cosmicsil Adze C18"
          ],
          [
           "Cosmicsil Agate 100 C18"
          ],
          [
           "Cosmicsil Agate RP C18"
          ],
          [
           "Cosmicsil Agate RP C8"
          ],
          [
           "Cosmicsil APT C18"
          ],
          [
           "Cosmicsil AQ C18 120"
          ],
          [
           "Cosmicsil Aster C18 XD"
          ],
          [
           "Cosmicsil Aura ODS"
          ],
          [
           "Cosmicsil BDS C18"
          ],
          [
           "Cosmicsil Glory C18"
          ],
          [
           "Cosmosil 5PYE"
          ],
          [
           "Cosmosil piNap"
          ],
          [
           "DeltaPak C18 100A"
          ],
          [
           "DeltaPak C18 300A"
          ],
          [
           "Denali 120A C18"
          ],
          [
           "Discovery Amide C16"
          ],
          [
           "Discovery BIO Wide pore C18"
          ],
          [
           "Discovery BIO Wide pore C5"
          ],
          [
           "Discovery BIO Wide pore C8"
          ],
          [
           "Discovery C18"
          ],
          [
           "Discovery C8"
          ],
          [
           "Discovery CN"
          ],
          [
           "Discovery HS F5"
          ],
          [
           "Discovery HS PEG"
          ],
          [
           "Durashell C18"
          ],
          [
           "Econosil C18"
          ],
          [
           "Econosphere C18"
          ],
          [
           "Endeavorsil C18"
          ],
          [
           "Epic C18"
          ],
          [
           "Epic C4"
          ],
          [
           "Epic C8"
          ],
          [
           "Epic Phenyl Hexyl"
          ],
          [
           "EU Reference Column"
          ],
          [
           "Excel SuperC18"
          ],
          [
           "Exsil C8"
          ],
          [
           "Exsil ODS"
          ],
          [
           "Flare C18"
          ],
          [
           "Flare C18+"
          ],
          [
           "Flowrosil C18 AQ"
          ],
          [
           "Flowrosil C8"
          ],
          [
           "Flowrosil ODS"
          ],
          [
           "Fluophase PFP"
          ],
          [
           "Fluophase RP"
          ],
          [
           "Fortis C18"
          ],
          [
           "Fortis C8"
          ],
          [
           "Fortis Cyano"
          ],
          [
           "Fortis H2O"
          ],
          [
           "Fortis Phenyl"
          ],
          [
           "Fortis UniverSil C18"
          ],
          [
           "Fortis UniverSil HS C18"
          ],
          [
           "Gazelle C18"
          ],
          [
           "Gemini C18 110A"
          ],
          [
           "Genesis AQ 120A"
          ],
          [
           "Genesis C18 120A"
          ],
          [
           "Genesis C18 300A"
          ],
          [
           "Genesis C4 300A"
          ],
          [
           "Genesis C4 EC 120A"
          ],
          [
           "Genesis C8 120A"
          ],
          [
           "Genesis CN 120A"
          ],
          [
           "Genesis CN 300A"
          ],
          [
           "Genesis EC C8 120A"
          ],
          [
           "Genesis Phenyl"
          ],
          [
           "GraceSmart RP 18"
          ],
          [
           "GraceSmart RP 18 5u"
          ],
          [
           "GROM Saphire 110 C18"
          ],
          [
           "GROM Saphire 110 C8"
          ],
          [
           "Haisil 300 C18"
          ],
          [
           "Haisil HL C18"
          ],
          [
           "Halo 5 C18"
          ],
          [
           "Halo 5 C8"
          ],
          [
           "Halo 5 PFP"
          ],
          [
           "Halo Biphenyl"
          ],
          [
           "Halo C18"
          ],
          [
           "Halo C30"
          ],
          [
           "Halo C8"
          ],
          [
           "HALO PFP"
          ],
          [
           "Heavy C18"
          ],
          [
           "Hichrom 300 5 RPB"
          ],
          [
           "Hichrom RPB"
          ],
          [
           "HSS C18"
          ],
          [
           "HSS C18 SB"
          ],
          [
           "HSS T3"
          ],
          [
           "HxSil C18"
          ],
          [
           "HxSil C8"
          ],
          [
           "HyperClone BDS C18 130A"
          ],
          [
           "HyperClone BDS C8 130A"
          ],
          [
           "HyperClone CN (CPS)"
          ],
          [
           "HyperClone MOS C8 120A"
          ],
          [
           "HyperClone ODS C18 120A"
          ],
          [
           "HyperClone PAH"
          ],
          [
           "Hypersil ODS"
          ],
          [
           "Hypersil 100 C18"
          ],
          [
           "Hypersil BDS C18"
          ],
          [
           "Hypersil Betamax Neutral"
          ],
          [
           "Hypersil Elite"
          ],
          [
           "Hypersil GOLD"
          ],
          [
           "Hypersil GOLD aQ"
          ],
          [
           "Hypersil GOLD C4"
          ],
          [
           "Hypersil GOLD C8"
          ],
          [
           "Hypersil GOLD CN"
          ],
          [
           "Hypersil GOLD PFP"
          ],
          [
           "Hypersil GOLD Phenyl"
          ],
          [
           "Hypersil ODS"
          ],
          [
           "Hypersil PAH"
          ],
          [
           "Hypersil Prism C18 RP"
          ],
          [
           "Hypersil Prism C18 RPN"
          ],
          [
           "Hypurity Advance"
          ],
          [
           "Hypurity C18"
          ],
          [
           "HyPurity C4"
          ],
          [
           "Hypurity C8"
          ],
          [
           "Hypurity Cyano"
          ],
          [
           "Inertsil WP300 C18"
          ],
          [
           "Inertsil WP300 C8"
          ],
          [
           "InertSustain C18"
          ],
          [
           "InertSustain C8"
          ],
          [
           "InertSustain Cyano"
          ],
          [
           "InertSustain Phenyl"
          ],
          [
           "InertSustain Phenylhexyl"
          ],
          [
           "InertSustainSwift C18"
          ],
          [
           "InertSustainSwift C8"
          ],
          [
           "Innoval C18"
          ],
          [
           "Inspire C18"
          ],
          [
           "Inspire C8"
          ],
          [
           "J'Sphere H80"
          ],
          [
           "J'Sphere L80"
          ],
          [
           "J'Sphere M80"
          ],
          [
           "Jupiter 300 C18"
          ],
          [
           "Jupiter 300 C4"
          ],
          [
           "Jupiter 300 C5"
          ],
          [
           "Kanak C18"
          ],
          [
           "Kanak C4"
          ],
          [
           "Kanak PheHex"
          ],
          [
           "Kinetex Biphenyl 100A"
          ],
          [
           "Kinetex C18 100A"
          ],
          [
           "Kinetex C8"
          ],
          [
           "Kinetex EVO C18"
          ],
          [
           "Kinetex F5"
          ],
          [
           "Kinetex PFP 100A"
          ],
          [
           "Kromasil 100 5 C18"
          ],
          [
           "Kromasil 100 5 C4"
          ],
          [
           "Kromasil 100 5 C8"
          ],
          [
           "Kromasil KR60 5 CN"
          ],
          [
           "LaChrom C18"
          ],
          [
           "LaChrom C8"
          ],
          [
           "LaChrom CN"
          ],
          [
           "LaChrom Ph"
          ],
          [
           "Leapsil C18"
          ],
          [
           "Luna C18"
          ],
          [
           "Luna C18(2)"
          ],
          [
           "Luna C5"
          ],
          [
           "Luna C8"
          ],
          [
           "Luna C8(2)"
          ],
          [
           "Luna CN"
          ],
          [
           "Luna Omega C18"
          ],
          [
           "Luna Omega Polar C18"
          ],
          [
           "Luna Omega PS C18"
          ],
          [
           "Luna PFP(2)"
          ],
          [
           "Matrix C18"
          ],
          [
           "MicroBondapak C18"
          ],
          [
           "MicroBondapak Phenyl"
          ],
          [
           "Monitor C18"
          ],
          [
           "Nucleodur C18 Gravity"
          ],
          [
           "Nucleodur C8 Gravity 5 micron"
          ],
          [
           "Nucleodur HTEC C18"
          ],
          [
           "Nucleodur Isis"
          ],
          [
           "Nucleodur PAH C18"
          ],
          [
           "Nucleodur PFP"
          ],
          [
           "Nucleodur POLARTEC C18"
          ],
          [
           "Nucleodur Pyramid"
          ],
          [
           "Nucleodur Sphinx RP"
          ],
          [
           "Nucleoshell RP 18"
          ],
          [
           "Nucleosil C8"
          ],
          [
           "Nucleosil 100 5 C18 HD"
          ],
          [
           "Nucleosil 100 5 C18 Nautilus"
          ],
          [
           "Nucleosil 300 5 C18"
          ],
          [
           "Nucleosil C18"
          ],
          [
           "OmniSpher 5 C18"
          ],
          [
           "Onyx Monolithic C18"
          ],
          [
           "Onyx Monolithic C8"
          ],
          [
           "Orosil C18"
          ],
          [
           "Orosil Polar C18"
          ],
          [
           "Partisil C8"
          ],
          [
           "Partisil ODS(3)"
          ],
          [
           "Phalanx C18"
          ],
          [
           "Pinnacle DB Aqueous C18"
          ],
          [
           "Pinnacle DB Biphenyl"
          ],
          [
           "Pinnacle DB C18"
          ],
          [
           "Pinnacle DB C8"
          ],
          [
           "Pinnacle DB Cyano"
          ],
          [
           "Pinnacle DB PFP Propyl"
          ],
          [
           "Pinnacle DB Phenyl"
          ],
          [
           "Pinnacle II Biphenyl"
          ],
          [
           "Pinnacle II C18"
          ],
          [
           "Pinnacle II C8"
          ],
          [
           "Pinnacle II Cyano"
          ],
          [
           "Pinnacle II PAH"
          ],
          [
           "Pinnacle II Phenyl"
          ],
          [
           "Platinum C18"
          ],
          [
           "Platinum C8"
          ],
          [
           "Platinum EPS C18"
          ],
          [
           "Platinum EPS C18 300"
          ],
          [
           "Platinum EPS C8"
          ],
          [
           "Platinum EPS C8 300"
          ],
          [
           "Polar C18"
          ],
          [
           "Poroshell 120 HPH C18"
          ],
          [
           "Poroshell 120 HPH C8"
          ],
          [
           "Poroshell 120 PFP"
          ],
          [
           "Precision C18"
          ],
          [
           "Precision C8"
          ],
          [
           "Precision CN"
          ],
          [
           "Precision Phenyl"
          ],
          [
           "Prevail Amide"
          ],
          [
           "Prevail C18"
          ],
          [
           "Prevail C8"
          ],
          [
           "Prevail Select C18"
          ],
          [
           "Primesep A"
          ],
          [
           "Primesep B"
          ],
          [
           "Primesep C"
          ],
          [
           "Primesil C18 3 micron"
          ],
          [
           "Primesil C18 5 micron"
          ],
          [
           "Primesil C8"
          ],
          [
           "Primesil C8"
          ],
          [
           "Prodigy ODS(2)"
          ],
          [
           "Prodigy ODS(3)"
          ],
          [
           "Promosil C18"
          ],
          [
           "ProntoSIL 120 C1"
          ],
          [
           "ProntoSIL 120 C18 AQplus"
          ],
          [
           "ProntoSIL 120 C18 H"
          ],
          [
           "ProntoSIL 120 C18 SH"
          ],
          [
           "ProntoSIL 120 C8 SH"
          ],
          [
           "ProntoSIL 120 CN EC"
          ],
          [
           "ProntoSIL 120 Phenyl"
          ],
          [
           "ProntoSIL 200 C18 AQ"
          ],
          [
           "ProntoSIL 200 C18 H"
          ],
          [
           "ProntoSIL 200 C30"
          ],
          [
           "ProntoSIL 200 C4"
          ],
          [
           "ProntoSIL 200 C8 SH"
          ],
          [
           "ProntoSIL 300 C30"
          ],
          [
           "ProntoSIL 300 C30 EC"
          ],
          [
           "ProntoSIL 300 C4"
          ],
          [
           "ProntoSIL 300 C8 SH"
          ],
          [
           "ProntoSIL 60 C18 H"
          ],
          [
           "ProntoSIL 60 C4"
          ],
          [
           "ProntoSIL 60 C8 SH"
          ],
          [
           "ProntoSIL 60 Phenyl"
          ],
          [
           "ProntoSIL CN"
          ],
          [
           "ProntoSIL HyperSORB 120 ODS"
          ],
          [
           "ProntoSIL SpheriBOND 80 ODS1"
          ],
          [
           "ProntoSIL SpheriBOND 80 ODS2"
          ],
          [
           "Prosphere 100 C18"
          ],
          [
           "Prosphere 300 C4"
          ],
          [
           "Prosphere C18 300A"
          ],
          [
           "Proto 300 C18"
          ],
          [
           "Purospher STAR RP18e"
          ],
          [
           "Pursuit C18"
          ],
          [
           "Pursuit DP"
          ],
          [
           "Pursuit PFP"
          ],
          [
           "Pursuit UPS C18"
          ],
          [
           "Pursuit XRs DP"
          ],
          [
           "Reliasil C18"
          ],
          [
           "Resolve C18"
          ],
          [
           "Robusta C18"
          ],
          [
           "Selectosil C18"
          ],
          [
           "Selectra Aqueous C18"
          ],
          [
           "Selectra C18"
          ],
          [
           "Selectra PFPP"
          ],
          [
           "Sphereclone ODS(2)"
          ],
          [
           "Spherisorb C8"
          ],
          [
           "Spherisorb S5 ODSB"
          ],
          [
           "Spursil C18"
          ],
          [
           "Sunfire C18"
          ],
          [
           "Sunfire C8"
          ],
          [
           "Sunniest Biphenyl"
          ],
          [
           "Sunniest C18"
          ],
          [
           "Sunniest C8"
          ],
          [
           "Sunniest PFP"
          ],
          [
           "Sunniest PFP&C18"
          ],
          [
           "Sunniest PhE"
          ],
          [
           "SunShell Biphenyl"
          ],
          [
           "Sunshell C18"
          ],
          [
           "Sunshell C8"
          ],
          [
           "Sunshell PFP"
          ],
          [
           "SunShell PFP&C18"
          ],
          [
           "Sunshell Phenyl"
          ],
          [
           "Svea C18"
          ],
          [
           "Svea C4"
          ],
          [
           "Svea C8"
          ],
          [
           "Svea CN"
          ],
          [
           "Svea PFP"
          ],
          [
           "Svea PheHex"
          ],
          [
           "Symmetry 300 C18"
          ],
          [
           "Symmetry 300 C4"
          ],
          [
           "Symmetry C18"
          ],
          [
           "Symmetry C4"
          ],
          [
           "Symmetry C8"
          ],
          [
           "SymmetryShield C18"
          ],
          [
           "SymmetryShield C8"
          ],
          [
           "SynChropak RP8"
          ],
          [
           "SynChropak RPP"
          ],
          [
           "SynChropak RPP 100"
          ],
          [
           "Syncronis aQ"
          ],
          [
           "Syncronis C18"
          ],
          [
           "Syncronis C8"
          ],
          [
           "Syncronis Phenyl"
          ],
          [
           "Targa C18"
          ],
          [
           "Targa C8"
          ],
          [
           "Targetsil C18 HPH"
          ],
          [
           "Targetsil C18 Polar"
          ],
          [
           "Thermo CN"
          ],
          [
           "Titan C18"
          ],
          [
           "Topsil C18"
          ],
          [
           "Triart Bio C4"
          ],
          [
           "TSKgel OligoDNA RP"
          ],
          [
           "Ultimate PFP"
          ],
          [
           "Ultimate Plus C18"
          ],
          [
           "Ultra Aqueous C18"
          ],
          [
           "Ultra Aromax"
          ],
          [
           "Ultra Biphenyl"
          ],
          [
           "Ultra C1"
          ],
          [
           "Ultra C18"
          ],
          [
           "Ultra C4"
          ],
          [
           "Ultra C8"
          ],
          [
           "Ultra Cyano"
          ],
          [
           "Ultra IBD"
          ],
          [
           "Ultra II Aqueous C18"
          ],
          [
           "Ultra II Aromax"
          ],
          [
           "Ultra II Biphenyl"
          ],
          [
           "Ultra II C18"
          ],
          [
           "Ultra II IBD"
          ],
          [
           "Ultra II PFP Propyl"
          ],
          [
           "Ultra PFP"
          ],
          [
           "Ultra PFP Propyl"
          ],
          [
           "Ultra Phenyl"
          ],
          [
           "Ultra Quat"
          ],
          [
           "Ultracarb ODS (30)"
          ],
          [
           "Ultracore SuperC18"
          ],
          [
           "UltraCore SuperPhenylHexyl"
          ],
          [
           "UltraSep ES AMID H RP18P"
          ],
          [
           "UltraSep ES PHARM RP18"
          ],
          [
           "Ultrasphere Octyl"
          ],
          [
           "Ultrasphere ODS"
          ],
          [
           "Unisol C18"
          ],
          [
           "Venusil ASB C18"
          ],
          [
           "Venusil ASB C8"
          ],
          [
           "Venusil HLP"
          ],
          [
           "Venusil PFP"
          ],
          [
           "Venusil XBP C18(2)"
          ],
          [
           "Venusil XBP C18(L)"
          ],
          [
           "Venusil XBP CN"
          ],
          [
           "Venusil XBP Phenyl"
          ],
          [
           "Vision C18 B"
          ],
          [
           "Vision C18 HL"
          ],
          [
           "VisionHT C18"
          ],
          [
           "Viva Biphenyl"
          ],
          [
           "Viva C18"
          ],
          [
           "Viva C4"
          ],
          [
           "Viva C8"
          ],
          [
           "Viva PFP Propyl"
          ],
          [
           "Vydac 201TP"
          ],
          [
           "Vydac 218MS"
          ],
          [
           "Vydac 218MSC18"
          ],
          [
           "Vydac 218TP"
          ],
          [
           "Vydac C18 Monomeric"
          ],
          [
           "Vydac Everest"
          ],
          [
           "Wakosil 5 C8 RS"
          ],
          [
           "Wakosil II 5 C18 AR"
          ],
          [
           "Wakosil II 5 C18 HG"
          ],
          [
           "Wakosil II 5 C18 RS"
          ],
          [
           "XBridge C18"
          ],
          [
           "XBridge C8"
          ],
          [
           "XBridge Phenyl"
          ],
          [
           "Xbridge Protein BEH C4"
          ],
          [
           "XBridge Shield RP18"
          ],
          [
           "XSelect CSH C18"
          ],
          [
           "Xselect HSS Cyano"
          ],
          [
           "Xselect HSS PFP"
          ],
          [
           "XTerra C18 RP"
          ],
          [
           "XTerra C8 RP"
          ],
          [
           "XTerra MS C18"
          ],
          [
           "XTerra MS C8"
          ],
          [
           "XTerra Phenyl"
          ],
          [
           "Xtimate C18"
          ],
          [
           "Xtimate C8"
          ],
          [
           "YMC Basic"
          ],
          [
           "YMC Hydrosphere C18"
          ],
          [
           "Zodiac C18"
          ],
          [
           "Zodiac C18(1)"
          ],
          [
           "Zorbax Bonus RP"
          ],
          [
           "Zorbax C18"
          ],
          [
           "Zorbax C8"
          ],
          [
           "Zorbax Eclipse PAH"
          ],
          [
           "Zorbax Eclipse Plus C18"
          ],
          [
           "Zorbax Eclipse Plus C8"
          ],
          [
           "Zorbax Extend C18"
          ],
          [
           "Zorbax StableBond 300A C18"
          ],
          [
           "Zorbax StableBond 300A C3"
          ],
          [
           "Zorbax StableBond 300A C8"
          ],
          [
           "Zorbax StableBond 80A C18"
          ],
          [
           "Zorbax StableBond 80A C3"
          ],
          [
           "Zorbax StableBond 80A C8"
          ]
         ],
         "hovertemplate": "Search result=False<br>PC1=%{x}<br>PC2=%{y}<br>Name=%{customdata[0]}<extra></extra>",
         "legendgroup": "False",
         "marker": {
          "color": "#636efa",
          "symbol": "circle"
         },
         "mode": "markers",
         "name": "False",
         "orientation": "v",
         "showlegend": true,
         "type": "scatter",
         "x": [
          -0.9763862419121164,
          0.07498346350729174,
          -0.7430323819080359,
          0.8577921250182496,
          0.30181084149641607,
          2.1896172568986425,
          -0.5364148946186056,
          -1.7669146581811956,
          1.5290495107424409,
          -1.8726972298814035,
          -0.7410320307926056,
          -0.6335114590940117,
          0.0871055072597919,
          1.40832990388186,
          -1.886376483076655,
          -0.503661305236488,
          0.30454886906481243,
          -0.969065530217647,
          0.5370390242719192,
          -0.0011237468070732178,
          2.983108351410152,
          1.398928982516918,
          -0.39358836997035834,
          -0.5721140796116232,
          0.33026955869055974,
          0.8374477358098397,
          -1.9629900027386844,
          -2.2515223720493176,
          -1.0731903664809046,
          -0.6980893205994912,
          -1.851822688158937,
          -0.7478750593520788,
          -2.0534607152319766,
          -0.9471869020318961,
          -1.068744067957948,
          0.39906821403961107,
          -0.8491790032828477,
          0.651137799000897,
          -0.38175861826748375,
          -1.0673801694743419,
          -0.16648690618081433,
          2.0960309341881254,
          -1.4089968768149372,
          2.06116746266864,
          1.5391785871483057,
          -1.882641666652636,
          -1.4792826122632157,
          1.6114793718157019,
          -0.5644688124991444,
          -1.4413825113562504,
          -0.7577691191915232,
          -1.9240185177057232,
          2.3037315039068944,
          -0.8102664382169812,
          -1.4713542852752266,
          -0.7324369836295622,
          -1.6332090410988422,
          -0.24617595775013174,
          1.9551324524875948,
          -2.052276039493874,
          -0.36778980263198985,
          1.2867831931366822,
          -1.953208306437421,
          -0.49470291592513743,
          -0.7516658364907344,
          0.971949591065851,
          -1.037892924135337,
          0.04559754677374095,
          1.8291234938328451,
          -0.16751734223284373,
          -0.2786525671736432,
          -0.13147932452806432,
          2.071592826961138,
          2.0561713995441235,
          4.52231169084327,
          1.8744440453890732,
          -1.2351279948606322,
          -1.5212326964289853,
          -0.11204903131301905,
          0.45783271303902323,
          2.90214834866441,
          4.174100851646654,
          -0.5886364513926894,
          0.6534554545058381,
          0.13990327393063443,
          2.195157993168938,
          -0.8722553949971413,
          1.9785279865729122,
          0.0774652438527742,
          1.727492766359921,
          0.2423319556419084,
          -0.8137259991019178,
          -1.4338024762672612,
          -2.2642801031770348,
          -0.09961240353301734,
          -1.1478985476465404,
          -1.4135276152913485,
          -1.2265456263865655,
          -0.3435310017160251,
          -0.5540688442942198,
          -1.1321718877300777,
          -0.07106878664157586,
          -0.4557023076330883,
          -0.8700895967295628,
          -0.04705985176995934,
          -1.1804983243932046,
          -0.9859926408199937,
          0.07256255195728056,
          2.071539914302913,
          1.6156222166716465,
          -1.2985153783080756,
          -0.3232031818820316,
          -0.9634482798418195,
          -1.2815464263048035,
          -2.0264016429012055,
          -1.4282980083682086,
          -1.2898810643709824,
          -0.29459629397824505,
          0.8548985422355996,
          -0.34710610685211657,
          0.7789395366519609,
          1.7174849455374364,
          2.4637343315688005,
          -0.5962951632651858,
          -0.7594467021162187,
          -1.260255484634192,
          0.02380894913686358,
          -1.0480086028965554,
          -0.5341551454871205,
          -1.5514936053066795,
          -0.15742208302770966,
          -1.1364356106745381,
          -0.7498453594974046,
          2.015516581703334,
          1.4895103000166625,
          -1.0761514816465847,
          -0.662278164789899,
          -1.7110703027598524,
          2.3115053376610675,
          0.07586687832739032,
          0.873778344331959,
          0.0087269112400288,
          -0.8621803336747014,
          0.04088730579359424,
          2.7960501161745346,
          -0.3031674137331891,
          3.6284395458339422,
          -1.208293835265996,
          -2.197647896969205,
          -0.6427746205523353,
          -1.0809042605591037,
          -0.21121997900702952,
          0.5142197441521581,
          -0.23899047039225496,
          1.3280454868318299,
          -1.631834592506823,
          -0.6135683476425804,
          -0.1360761727552394,
          -2.1826988265563907,
          6.240756764758034,
          3.704106559864055,
          -0.02229572107016998,
          -0.10492935378189981,
          -0.8795133569293704,
          1.0338300336149497,
          -0.8230884584749829,
          -0.2648205546544336,
          -0.08401854560720998,
          2.120585222582026,
          -1.5975163284968845,
          1.9013157557388698,
          -0.32647956252400323,
          -0.6727573428890623,
          -1.3503338214423117,
          -0.7710072582997163,
          -0.43362449195868824,
          -0.9347707798458007,
          -0.8345554421367982,
          1.3881796301551421,
          1.1699184191364485,
          -0.15979479478818207,
          2.774243229898452,
          2.7793766731164053,
          -0.10229311383490083,
          1.770530513017041,
          -0.4801532928693447,
          -0.4801532928693447,
          -1.279602335756427,
          0.13724647692667405,
          -1.0026004731761107,
          -0.9473422968519271,
          -2.0851658063655854,
          -0.5506370323841818,
          -0.3990567183300646,
          1.492379611892189,
          -1.7623100259769149,
          -0.270405764115836,
          -0.4910837159170866,
          -0.4436644940113895,
          -1.0605471680574354,
          -1.0512906130502424,
          -1.2440612883493145,
          -1.03454100381388,
          -0.5666825778374228,
          -0.3515460900873362,
          -0.8727028895774644,
          0.3233603174138063,
          -1.2436279715037388,
          -0.2677186406660533,
          1.850238821644795,
          -0.4369114477371581,
          -1.3556951114930937,
          -2.1809816662326527,
          -1.1164717391557495,
          -1.5438348482632616,
          -1.022127143668507,
          -1.654261671543886,
          -1.5219258937776725,
          -0.5199114661943307,
          -0.8138894611921097,
          0.6494564389399125,
          -0.0298200297575147,
          2.943340205612235,
          0.4942813957948165,
          1.3706322859091051,
          -1.056588024302087,
          -2.0655543959826805,
          4.222794858483431,
          1.7569390433239085,
          3.479854693534626,
          -0.9386930565964452,
          0.5929853462524199,
          0.0012254691302895962,
          2.1225398489463463,
          -0.6066148292211468,
          0.1612178653553941,
          -1.3178573118922343,
          -0.038544165199254014,
          1.75658629058396,
          2.024508677892366,
          0.827768590140577,
          0.02376211455639564,
          0.4093654644418821,
          -1.4302497515624437,
          -0.940609069696417,
          0.07744224747841456,
          -1.7140140694478418,
          0.6551226898501221,
          -0.17162367289313502,
          -0.6098111680469634,
          0.8585261170239494,
          0.6081574241099151,
          -1.4110283595538258,
          0.5735980107774821,
          0.7891528367017119,
          2.0978151237749056,
          -0.6201446661462023,
          -0.08962534031969561,
          -0.6664482082445973,
          0.5688311558963599,
          -0.5288304868581766,
          -1.2434294589981916,
          0.6438078596824709,
          -0.10741476015750755,
          2.4252917057274708,
          -0.4844078718882229,
          0.15399526516719877,
          1.9644139282250186,
          1.5775085925196788,
          -1.304771185176362,
          -0.992741809361055,
          -0.6315105682673625,
          0.24948007652237042,
          -0.288745836615687,
          -0.09666496771216625,
          1.5778992788758772,
          -0.5125357442575451,
          0.22765590907809058,
          0.2521252265413057,
          0.64091058037422,
          -0.756217931263285,
          -0.054739976172484106,
          1.4275357877644443,
          -0.6267456511330537,
          -1.1711149329299986,
          -0.048039277273522744,
          -1.0029318163607936,
          -1.2090699990727733,
          -2.587445969036775,
          0.5836193718591131,
          3.3841225390611873,
          -0.39543768485216774,
          0.5431071134655059,
          -1.9091419268644891,
          0.8022308379987254,
          -0.5552366526182059,
          2.621764574634278,
          -0.41571672872612137,
          -0.8144357498155793,
          -1.4791523382074878,
          -1.6869376144687829,
          -0.3747938763135654,
          -0.4354537237967992,
          -2.3984834496135385,
          0.7078857048482907,
          -0.2534323198219826,
          -0.2073377369053411,
          0.10079706648747333,
          1.7945021550928568,
          -1.278102631295027,
          -0.05016450436799826,
          2.0273694776165376,
          0.8353060626076303,
          2.016638721869879,
          1.4899781245069683,
          -1.3526795910566392,
          -0.37158498545669705,
          1.679900635407484,
          -2.125619746667259,
          1.8283904257515864,
          -0.029856935170055155,
          0.9022077283661033,
          0.06403404348973456,
          0.14579949905145156,
          1.026196341658109,
          1.2312037434890148,
          -2.97433773989378,
          -0.9186738793367288,
          -0.07380694966970025,
          1.5569136086385538,
          -0.9859926408199937,
          0.07256255195728056,
          2.4520501435397044,
          1.5882074545691567,
          -0.6530682112677937,
          -0.8831738401012625,
          0.7364538825389993,
          1.7041123197334873,
          -0.5148169287878342,
          4.842649324949867,
          1.7307575973537446,
          -1.0376119277587896,
          -1.0775302169120746,
          0.10014855209865445,
          -0.10005546956369792,
          -0.7819565445516466,
          -0.7739828320612974,
          -1.2445796349648535,
          1.495024117066029,
          -0.8795061979034077,
          -0.8442030369601656,
          -1.0806930500097698,
          0.34320394361938444,
          1.8446730812901446,
          1.532209301044352,
          -0.806646157095009,
          -0.6174417691457631,
          -1.1590393140479234,
          1.3452993481200672,
          0.31213835440073423,
          -0.9566561744934414,
          -0.6663073479709157,
          1.4738211561871575,
          0.3532615216157169,
          -2.1851852489955332,
          0.2053062165287491,
          -0.8394614688466928,
          0.5244364070826916,
          2.210578178972498,
          -1.2452638398579974,
          -0.8420989735184378,
          -1.8802893874361548,
          -0.9677954998499386,
          0.10245460777510787,
          -1.2990048511536416,
          -0.765783869745821,
          -1.028281128152902,
          -0.7505001613424376,
          2.2150795602030033,
          0.9099699701890349,
          -1.2830617166758813,
          1.8366485317458228,
          -1.4074025465484439,
          -2.5122009462746893,
          -1.3218888419428152,
          -0.7162664710515798,
          0.21742463787737276,
          -1.3859946617268637,
          0.6774029946003782,
          -2.102228696316045,
          0.025769942891203667,
          0.8957461390992767,
          -0.9558121271606769,
          -1.2140292644191093,
          -0.18433944851457798,
          1.2585387793838,
          -0.9047045359202982,
          0.10927525924080099,
          0.09586194026565546,
          -0.29950328616660693,
          1.5171249330243817,
          0.8849115292343132,
          -1.3828334981454742,
          -0.30690805916051705,
          -0.5266752510500928,
          -0.3983874412765545,
          0.6086391125142605,
          -1.4110283595538258,
          0.5735980107774821,
          -0.22667682558884145,
          2.351243501409698,
          0.9906185030409694,
          0.7891528367017119,
          -1.0880993024318824,
          1.067413491094339,
          -1.319429616772285,
          0.6650163527024672,
          0.06769641388360717,
          1.2320105442552958,
          1.985368601027477,
          0.3730079562110296,
          -0.13479174965176366,
          0.1481452005351849,
          -0.9295334920593391,
          -0.9852335842853273,
          0.22040615631598823,
          0.9391561206955885,
          -0.6892321932890422,
          0.17574515569989582,
          -0.6958156635862848,
          1.7822041189191542,
          2.945141488372031,
          -1.047698975580514,
          -0.8306911966720496,
          0.8990445384773512,
          -1.063481385598332,
          0.5881182310795228,
          -0.6724611602335423,
          -0.6573677629693732,
          1.4313452673952312,
          1.5918746566834452,
          1.4247063340863535,
          -1.3408667344898406,
          0.542751384182771,
          -0.12666767277484037,
          2.8499267918903266,
          1.8850518691793523,
          -0.5175953327995952,
          1.2493436482578766,
          1.4904103602386232,
          -1.3570774616822614,
          1.6038321869505017,
          0.5633156843012144,
          1.7705557740179574,
          0.8789261099614329,
          1.744103909937178,
          -0.13814430429344923,
          -2.18627705235921,
          -1.398318678800045,
          0.6456723606576057,
          1.7142969824651195,
          -2.0966251449453233,
          -0.35847623486929275,
          -1.4224503454823285,
          -0.47789962202814146,
          -0.23050529834289546,
          0.5689324536011191,
          3.84165302882458,
          0.8621969059010377,
          -0.897066285318157,
          -0.7378358161522715,
          2.3147540954733823,
          1.345753304119762,
          -0.2878994270210075,
          -1.4086679299484577,
          -0.029856935170055155,
          1.7385802478988877,
          -0.9947652942242418,
          0.6314149251562504,
          0.012609153341717257,
          0.9612118556339405,
          -1.662108487085898,
          -3.5870403812445297,
          -1.2611879925711296,
          -1.544325655869844,
          -1.2064092989491333,
          -1.411363680487453,
          0.31671497317927455,
          -1.3495839870298034,
          -1.3254971450881177,
          -0.45869432872391935,
          -0.9896741280356895,
          0.20605534211345167,
          0.9720118124133629,
          1.479502548549398,
          0.9812582652171894,
          0.10204278144194068,
          1.8680154676563487,
          0.1738836118917987,
          1.5948554285968548,
          2.1764202752980935,
          -0.7983436118435282,
          0.24865155662285718,
          1.0579231130481592,
          -0.9549571432937917,
          -0.020008176500636264,
          0.14582494228106113,
          -0.3138962629149988,
          -1.3585737239547413,
          -0.704274642600025,
          5.798826698296154,
          -3.1519969943338464,
          -0.9392673072124782,
          -2.746900998974172,
          -1.022802411315555,
          -0.24459726510474059,
          -1.731644931276461,
          -0.4749930189899206,
          1.6890410027767768,
          0.46676972968190317,
          -1.4366980805438088,
          1.2387043503104473,
          -0.2040554369285829
         ],
         "xaxis": "x",
         "y": [
          0.6467134956031422,
          0.39197379649592456,
          -0.059833787208733405,
          0.2972075524854051,
          0.18788358778765632,
          1.497585587772812,
          0.18346323145856147,
          0.9322486440373849,
          -1.5803233693079468,
          1.0238954767290542,
          0.0011594678931208327,
          0.6256243908477604,
          -1.995249754589713,
          2.678147009939153,
          1.0643218628796347,
          0.7076460814014247,
          -0.1161070733861728,
          0.6490509738085851,
          -0.07692818831168648,
          0.3596822082866838,
          -0.9865689246544791,
          -1.3055199116072977,
          0.9118437833655905,
          0.12843817612718725,
          -0.7077400264108269,
          1.2956029983627428,
          -2.2584324700032927,
          0.550882129512444,
          -0.44891463761138156,
          0.3565335326216505,
          0.9148320658782918,
          -2.820638677204475,
          -1.2711643218560542,
          -0.6761129861175419,
          0.2938810631548932,
          0.45686134048740984,
          0.146402273779822,
          -0.35714121309792035,
          -1.7789935582428973,
          0.37816903248905553,
          0.37362852901846944,
          0.04721115821764592,
          -0.8494593626910588,
          -0.927337055028029,
          -1.5917948994834352,
          1.198684582627662,
          -1.4037339935394797,
          -2.662470805618374,
          -1.3839796409348666,
          -1.2397950376517228,
          -1.718263745659344,
          -2.4939480170884076,
          1.5306764727087665,
          0.11168416785704587,
          0.8858278127223478,
          0.2916746210509203,
          1.1593957602326224,
          0.8377078545797052,
          -1.1053537735761765,
          1.0402684720573434,
          -2.6606596973142698,
          -1.7595570290427833,
          1.0610775292417691,
          0.5780080713660118,
          -2.8216787722965098,
          -0.7632632128714093,
          0.4464226210359031,
          0.15378206624131943,
          -1.0569233449855164,
          0.1888251484710813,
          0.2509176778001658,
          0.1013276208784056,
          -0.5971490501938664,
          -1.439195422194893,
          4.626546248825027,
          -0.7396335926109916,
          1.0679274284317377,
          0.8276908895342018,
          0.41181666587041765,
          -0.013124225009719099,
          -0.26316501957393706,
          -1.5735537234499202,
          0.1098273435366955,
          0.09530662003082875,
          0.24696802121225167,
          -1.326522703596184,
          -0.5082030690542482,
          -1.1457532160581885,
          0.04746280314653676,
          0.48683940358428845,
          -0.13755139918760917,
          -0.1960485375746341,
          0.9000106535465756,
          0.26265217039726446,
          0.10928789072662543,
          0.5636929569810868,
          0.566029950622758,
          0.8135151460913101,
          1.0633485668663236,
          0.6620141264657862,
          0.67283776216372,
          0.729636870986581,
          0.6741140021386,
          0.39596934481848317,
          0.46774464887635736,
          0.6151084512117654,
          0.47889001017795785,
          0.2041129863783653,
          -0.8655136469779493,
          -1.1004047115380076,
          0.04890834210848449,
          -1.5604751225317,
          0.39499866715051063,
          -0.6659532555286128,
          0.9970833292735142,
          1.013984199266443,
          0.6268194111457606,
          0.6258988882498788,
          -0.5706583394360366,
          0.08880125199417381,
          0.8484574559781176,
          1.7531040554525554,
          -1.113586073708447,
          0.5298166959667105,
          0.3655245726259089,
          0.525655563035007,
          0.34967434796584707,
          0.49498685622244637,
          0.026599442198723962,
          1.1114560099383421,
          0.2854823717871986,
          -0.808721500426333,
          0.5354000516016904,
          -2.925989774122436,
          -1.765202624718249,
          0.7528967099671618,
          0.18103489884974738,
          0.7828168353623353,
          1.3336114392729448,
          0.42364239569060896,
          -0.036831727112296334,
          0.3348229098001259,
          0.5911696887066051,
          0.4248016981329686,
          -1.2341181783635544,
          -0.24657831889838464,
          1.0108084741769994,
          1.2221487223655414,
          -1.7305776909921693,
          -2.361773290852978,
          1.0915548232319625,
          0.575028595227663,
          0.6987759105962487,
          0.8176705298873064,
          -0.42145499824855953,
          0.20465848139006693,
          0.5807490438202567,
          -1.194195123997516,
          -1.116372291436053,
          4.442688180478691,
          1.1545071836237895,
          0.027420823145558784,
          0.36428837925235363,
          0.498157727326488,
          -1.8906882985652427,
          -1.0882479321332186,
          0.6204737912819258,
          0.8505917209843489,
          -0.8053351796035775,
          0.7838717836310982,
          -1.3968046029820276,
          0.13646149520188805,
          0.5711451569695886,
          0.5016149229269831,
          0.6429787565152236,
          0.21799648670312302,
          0.4455452885952326,
          0.26637110386265356,
          -0.4867477982037032,
          -0.39605748478542663,
          0.16426422384565267,
          -1.2093363512342739,
          -1.1818789962666958,
          0.40987078317926223,
          -1.4042514294200328,
          -0.16336285098761055,
          -0.16336285098761055,
          0.6621180914371184,
          0.24261222224000603,
          -0.058409092224346426,
          0.27808177885242436,
          1.1112986909474256,
          0.6667006119770299,
          -2.7970658791810585,
          -1.5801950327540437,
          0.9314554306169607,
          -0.05481044803833547,
          0.7021717074118536,
          -2.807757691100097,
          1.0327833569666278,
          0.39111511465750676,
          0.45049131677802623,
          0.8601390213458728,
          -1.7988282549534667,
          0.331419029410036,
          -0.8532565605651528,
          -0.7309292615120586,
          0.5551508863412458,
          0.10227361363351326,
          -2.1853944872594515,
          -1.2892858559350224,
          -0.6424603278043336,
          -1.1343296910512004,
          -1.2869158394184923,
          0.36504962814846165,
          0.28486540699628976,
          0.9474175315319802,
          0.261775152518157,
          0.2550112714610969,
          -0.16291131408704265,
          0.11841781492558559,
          0.41782650672086985,
          -0.3244107064875781,
          -1.393636764382015,
          -0.8646121297750968,
          -0.7192550421027226,
          -2.0516917060162347,
          5.60450856683426,
          1.460848173082268,
          1.5622137652644292,
          0.5475074042706336,
          0.12778003377094507,
          0.38786934149907,
          -0.4598800464408053,
          0.1564983353304927,
          0.09521587986241,
          1.0542568039028686,
          0.42318797181501866,
          -0.5673723721648275,
          -1.160517843954106,
          -0.00907507720593776,
          0.24430126972503863,
          0.1434470242618312,
          1.146110460751648,
          0.2063220920088492,
          0.530369226163159,
          1.4411824659793586,
          0.4832893330969899,
          0.6803002058160234,
          0.5984114521061277,
          0.09628765559753216,
          0.3653637774670482,
          0.9756909657633791,
          0.23537604729382486,
          -0.7320670980374492,
          -1.39912679862283,
          0.5494793298655765,
          0.6432268443841661,
          0.7021350262643521,
          -0.6656890133756435,
          -0.37107805408420064,
          0.9056721333096378,
          0.31107754682112687,
          0.5131734066665254,
          -1.7087865088787635,
          1.0986097854604133,
          1.1790999581217574,
          -0.836915862888758,
          -0.9127415450540439,
          1.0372369263099124,
          1.221482579525208,
          1.1856409861821076,
          1.007926681850563,
          1.2285533812190292,
          1.2752413147141155,
          -1.957394133914243,
          0.6164971264248396,
          -0.21854400910311875,
          0.8015699055977034,
          -0.6181774256469114,
          -0.14152760570726092,
          -0.814921199169461,
          -1.9292430438194592,
          0.5575371939944789,
          1.1595535924969405,
          0.9564130280465798,
          1.6373176814047397,
          1.101291023335209,
          -0.17924514190697122,
          -0.5268006752083587,
          7.698070613798093,
          0.894346905678056,
          -0.35023626398698143,
          0.8557317515753275,
          -1.85016611958371,
          0.273713576127061,
          1.732239891490248,
          -1.0241432892922595,
          -0.6206028913515432,
          0.9640598804585693,
          0.477569936977434,
          0.27452266198707403,
          0.37559133835891306,
          -0.5811998264022652,
          -0.3508598920363127,
          -0.8675441003827228,
          0.3978185274828773,
          -1.893055160388847,
          -1.6533164239612503,
          0.34657665226562295,
          0.13989412224766049,
          -1.333423417270333,
          -1.132170763491128,
          -1.207699123804186,
          -2.2613756935219453,
          0.18010767785976617,
          -0.03930430935616264,
          -1.5399387978424992,
          -0.9070219894706789,
          -1.5128917230485712,
          -0.9861609687378305,
          -0.8828909468114212,
          -2.819980577493499,
          -1.4241641050715452,
          -2.6476403997692532,
          -1.569286403176355,
          -2.0858426871820237,
          0.6257081517512861,
          0.6692932541473817,
          -0.31627341061289577,
          0.47889001017795785,
          0.2041129863783653,
          -1.1918847068512124,
          -1.3453444272687667,
          -0.3888222625431967,
          -0.5844868220523395,
          -0.9224438107757036,
          2.4794285197812043,
          -5.65803563066298,
          3.930144156540796,
          -2.552867957026235,
          0.8778837068132852,
          0.59569807831988,
          0.42170494432034833,
          0.4728107039555225,
          1.0402514917820298,
          1.1047559154558344,
          1.0501093359715747,
          -1.1384022328973264,
          0.5446037724538022,
          0.48214203065295136,
          0.5841731889171087,
          -0.5236571709346818,
          -0.7733095432203871,
          -1.7560605798756237,
          0.29820447016274443,
          0.3830292287804657,
          -1.089062262756268,
          -0.737098859974194,
          -0.038329468389752507,
          -1.2266688315783674,
          -0.3160888453028736,
          -1.2257952455593022,
          -0.3664679896182005,
          0.8575237394881937,
          -0.6980726132193336,
          0.6075749336688507,
          -2.4242535210931786,
          -1.700738483878145,
          -1.2170833764996862,
          -3.9205965345957945,
          -0.7352295849345917,
          -0.7150283330599797,
          -0.4148399494700077,
          -0.5111858230183876,
          0.39615298524463755,
          0.6084718128696931,
          0.39459157492892294,
          -1.2527630357986972,
          -0.8408253842760045,
          1.405404912003381,
          -1.0917553482307238,
          -0.4865930824236921,
          -3.5033628751115637,
          0.5971161736746861,
          -0.47713721800618547,
          -0.987104898878255,
          0.90992030576916,
          -1.2948950807112098,
          -1.3122126827642004,
          -1.5217431682552247,
          2.6525098018305453,
          -0.0638248049401878,
          1.1090997570750243,
          1.0228572076020042,
          -0.8883053179554345,
          0.6240226106217583,
          0.470441185981917,
          -3.146778703295528,
          -1.313837210944067,
          -0.6508941710262222,
          -0.8231091455674168,
          0.9681287082698735,
          0.6093503659485476,
          -3.5593461860618034,
          -1.1342243095028108,
          -0.30518928935103706,
          0.9756909657633791,
          0.23537604729382486,
          0.5869206654913899,
          -0.5673142026854575,
          -1.2260398048437098,
          -0.7320670980374492,
          0.5843464714445321,
          -0.011602122626089485,
          1.5846291517690407,
          -0.1529541614843941,
          1.6065537949695914,
          1.972550427892856,
          1.5393267607611194,
          -1.273434143478419,
          -1.3534502460572064,
          0.06480956671615003,
          0.35893090799621213,
          0.6447371846880097,
          0.288734734459408,
          -0.4393770741110228,
          0.4527065554901375,
          0.20570119285690522,
          0.28038913704665663,
          1.6088554178388692,
          -1.1755914722710512,
          0.6003353666636931,
          0.29784308503387685,
          -0.06668998695706489,
          0.06856804260237566,
          -1.6411866523549759,
          0.42274491689014626,
          -1.4518946430362483,
          -1.6380675171302075,
          -1.797093854213809,
          -0.3256682437880567,
          0.856103608937773,
          0.1373453864034201,
          0.6234775142915183,
          -0.33680090749580416,
          1.1827473761949383,
          -2.0685089984432374,
          -2.1482245929157595,
          -2.2190727902185827,
          0.49864796992755017,
          0.6308505383584557,
          -1.6302590860729584,
          -0.4855238115149522,
          -1.6486831929320764,
          -1.1431500186477994,
          0.5101214648817802,
          0.9001129237020534,
          0.9817700713436086,
          -0.3296406994737327,
          1.5712358110672535,
          -1.291917804943588,
          0.5431659788346954,
          0.37149703026281056,
          0.49256093569696885,
          -0.39563133618366403,
          -0.7988855420652853,
          2.013173177177016,
          -2.362665530586895,
          0.7930804447273456,
          0.6023350937771526,
          -0.6032403485314818,
          -1.1075179746635142,
          -1.7159840515876328,
          0.8264576971859795,
          -0.9861609687378305,
          -2.063968518327585,
          0.2614405259429657,
          -0.0928922397195635,
          0.15761284205533999,
          -0.8647506470109163,
          -0.5455901261795757,
          -0.17135752771872942,
          -0.13254756008084936,
          -0.15573255107464526,
          0.734879637661,
          0.8092106124042051,
          0.5140525231162837,
          1.0967625532888763,
          0.8606529027977093,
          0.6906740183026434,
          0.6101356268661469,
          0.35956687605298493,
          -0.5538824694344983,
          -0.7240233374850623,
          0.7364163758936602,
          0.8593907215219801,
          -1.363267880718709,
          -2.9109377139416335,
          0.520746547170512,
          0.42116991887927024,
          0.5228164315447016,
          0.31831648596173306,
          -0.6339340931945846,
          0.3808214056030294,
          0.29218704114747196,
          0.35896712454603297,
          0.49109401777329675,
          1.3759172956801027,
          0.4794128815101408,
          6.60634076379428,
          -0.7789995846662028,
          -0.7006480151364162,
          -0.12140562183688929,
          0.6097647007051265,
          0.6103056532871236,
          1.0652032926160235,
          -0.31880468794764444,
          -1.3161896415357481,
          -0.8174748240004049,
          -0.05993483991668807,
          -1.0984599713081546,
          -0.559182915661808
         ],
         "yaxis": "y"
        },
        {
         "customdata": [
          [
           "Acclaim Mixed-Mode HILIC-1"
          ],
          [
           "Acclaim Mixed-Mode WCX-1"
          ],
          [
           "Acclaim Phenyl-1"
          ],
          [
           "Accucore 150-C18"
          ],
          [
           "Accucore 150-C4"
          ],
          [
           "Accucore Phenyl-Hexyl"
          ],
          [
           "Accucore Phenyl-X"
          ],
          [
           "Accucore RP-MS"
          ],
          [
           "ACE 5 C18-300"
          ],
          [
           "ACE 5 C18-AR"
          ],
          [
           "ACE 5 C18-HL"
          ],
          [
           "Ace 5 C18-PFP"
          ],
          [
           "ACE 5 C4-300"
          ],
          [
           "ACE 5 C8-300"
          ],
          [
           "ACE 5 CN-300"
          ],
          [
           "ACE Phenyl-300"
          ],
          [
           "Acquity UPLC BEH Shield RP-18"
          ],
          [
           "Adamas C18-AQ"
          ],
          [
           "Adamas C18-Classic"
          ],
          [
           "Adamas C18-Extreme"
          ],
          [
           "Adamas C18-Select"
          ],
          [
           "Adamas C18-X-Bond"
          ],
          [
           "Aeris PEPTIDE XB-C18"
          ],
          [
           "Aeris WIDEPORE XB-C18"
          ],
          [
           "Aeris WIDEPORE XB-C4"
          ],
          [
           "Aeris WIDEPORE XB-C8"
          ],
          [
           "Alltima C18-LL"
          ],
          [
           "Alltima C18-WP"
          ],
          [
           "Ascentis Express ES-CN"
          ],
          [
           "Ascentis Express Peptide ES-C18"
          ],
          [
           "Ascentis Express Phenyl-Hexyl"
          ],
          [
           "Ascentis Express RP-Amide"
          ],
          [
           "Ascentis RP-Amide"
          ],
          [
           "Athena C18-WP"
          ],
          [
           "BAS MF-8954"
          ],
          [
           "Betasil Phenyl-Hexyl"
          ],
          [
           "Cadenza 5CL-C18"
          ],
          [
           "Cadenza CD-C18"
          ],
          [
           "Chromolith HighResolution RP-18e"
          ],
          [
           "Chromolith Performance RP-8e"
          ],
          [
           "COSMOSIL 5-C18-PAQ"
          ],
          [
           "COSMOSIL C18-AR-II"
          ],
          [
           "COSMOSIL C18-MS-II"
          ],
          [
           "Curosil-PFP"
          ],
          [
           "Develosil C30-UG-5"
          ],
          [
           "Develosil ODS-HG-5"
          ],
          [
           "Develosil ODS-MG-5"
          ],
          [
           "Develosil ODS-UG-5"
          ],
          [
           "EC Nucleosil 100-5 Protect 1"
          ],
          [
           "Excel C18-Amide"
          ],
          [
           "Excel CN-ES"
          ],
          [
           "Gemini C6-Phenyl 110A"
          ],
          [
           "Gemini-NX C18"
          ],
          [
           "GROM-SIL 120 Octyl-6 MB"
          ],
          [
           "GROM-SIL 120 ODS-3 CP"
          ],
          [
           "Grom-Sil 120 ODS-4 HE"
          ],
          [
           "GROM-SIL 120 ODS-5 ST"
          ],
          [
           "Halo 5 ES-CN"
          ],
          [
           "Halo 5 Phenyl-Hexyl"
          ],
          [
           "Halo AQ-C18"
          ],
          [
           "Halo ES-CN"
          ],
          [
           "Halo LPH-C18"
          ],
          [
           "HALO Peptide ES-C18"
          ],
          [
           "Halo Phenyl-Hexyl"
          ],
          [
           "Halo RP-Amide"
          ],
          [
           "Hitachi LaChrom C18-PM"
          ],
          [
           "Hypersil Beta Basic-18"
          ],
          [
           "Hypersil Beta Basic-8"
          ],
          [
           "Hypersil Bio Basic-18"
          ],
          [
           "Hypersil Bio Basic-8"
          ],
          [
           "Hypersil ODS-2"
          ],
          [
           "Inertsil C8-3"
          ],
          [
           "Inertsil C8-4"
          ],
          [
           "Inertsil CN-3"
          ],
          [
           "Inertsil ODS-2"
          ],
          [
           "Inertsil ODS-3"
          ],
          [
           "Inertsil ODS-4"
          ],
          [
           "Inertsil ODS-EP"
          ],
          [
           "Inertsil ODS-HL"
          ],
          [
           "Inertsil ODS-P"
          ],
          [
           "Inertsil ODS-SP"
          ],
          [
           "Inertsil Ph-3"
          ],
          [
           "InertSustain AQ-C18"
          ],
          [
           "Kinetex Phenyl-Hexyl"
          ],
          [
           "Kinetex XB-C18"
          ],
          [
           "LaChrom C18-AQ"
          ],
          [
           "LaChrom C18-NE"
          ],
          [
           "LiChrosorb RP-18"
          ],
          [
           "LiChrospher 100 RP-18"
          ],
          [
           "LiChrospher 60 RP-Select B"
          ],
          [
           "Luna Phenyl-Hexyl"
          ],
          [
           "Microsorb 100-5 C8"
          ],
          [
           "Microsorb 100-5 Phenyl"
          ],
          [
           "Microsorb 300-5 C4"
          ],
          [
           "Microsorb-MV 100 CN"
          ],
          [
           "Nova-Pak C18"
          ],
          [
           "Nova-Pak C8"
          ],
          [
           "Nova-Pak CN HP 60A"
          ],
          [
           "Nova-Pak Phenyl"
          ],
          [
           "Nucelosil 100-5-C8 HD"
          ],
          [
           "Nucleodur 100-5 C18"
          ],
          [
           "Nucleodur 100-5 C8"
          ],
          [
           "Orosil C18-ER"
          ],
          [
           "Orosil C18-HC"
          ],
          [
           "Peerless Basic C-18"
          ],
          [
           "Peerless C-18"
          ],
          [
           "Polaris Amide-C18"
          ],
          [
           "Polaris C18-A"
          ],
          [
           "Polaris C18-Ether"
          ],
          [
           "Polaris C8-A"
          ],
          [
           "Polaris C8-Ether"
          ],
          [
           "Poroshell 120 Bonus-RP"
          ],
          [
           "Poroshell 120 EC-C18"
          ],
          [
           "Poroshell 120 EC-C8"
          ],
          [
           "Poroshell 120 EC-CN"
          ],
          [
           "Poroshell 120 Phenyl-Hexyl"
          ],
          [
           "Poroshell 120 SB-AQ"
          ],
          [
           "Poroshell 120 SB-C18"
          ],
          [
           "Poroshell 120 SB-C8"
          ],
          [
           "Precision C18-PE"
          ],
          [
           "Precision C8-PE"
          ],
          [
           "Primesil C18-2"
          ],
          [
           "Primesil ODS-P"
          ],
          [
           "Prodigy Phenyl-3"
          ],
          [
           "ProntoSIL 120 C18 ace-EPS"
          ],
          [
           "ProntoSIL 120 C18-AQ"
          ],
          [
           "ProntoSIL 120 C8 ace-EPS"
          ],
          [
           "ProntoSIL 120-3-C30"
          ],
          [
           "ProntoSIL 200 C18 ace-EPS"
          ],
          [
           "ProntoSIL 300 C18 ace-EPS"
          ],
          [
           "ProntoSIL 300-5-C18 H"
          ],
          [
           "Purospher RP-18"
          ],
          [
           "Pursuit XRs C-18"
          ],
          [
           "Pursuit XRs C-8"
          ],
          [
           "Sepax Bio-C18"
          ],
          [
           "Sepax HP-C18(2)"
          ],
          [
           "SepaxBio-C4"
          ],
          [
           "SepaxBio-C8"
          ],
          [
           "SepaxBR-C18"
          ],
          [
           "SepaxGP-C18"
          ],
          [
           "SepaxGP-C4"
          ],
          [
           "SepaxGP-C8"
          ],
          [
           "SepaxGP-Phenyl"
          ],
          [
           "SepaxHP-C18"
          ],
          [
           "SepaxHP-Cyano"
          ],
          [
           "Shim-pack Arata C18"
          ],
          [
           "Shim-pack Velox Biphenyl"
          ],
          [
           "Shim-pack Velox C18"
          ],
          [
           "Shim-pack Velox PFPP"
          ],
          [
           "Shim-pack Velox SP-C18"
          ],
          [
           "Shim-pack XR-C8"
          ],
          [
           "Shim-pack XR-ODS"
          ],
          [
           "Shim-pack XR-ODS II"
          ],
          [
           "Shim-pack XR-Phenyl"
          ],
          [
           "Shodex C18-4D"
          ],
          [
           "Spherisorb ODS-1"
          ],
          [
           "Spherisorb ODS-2"
          ],
          [
           "Spursil C18-EP"
          ],
          [
           "Sunniest RP-AQUA"
          ],
          [
           "Sunshell RP-AQUA"
          ],
          [
           "Supelcosil LC-18"
          ],
          [
           "Supelcosil LC-18-DB"
          ],
          [
           "Supelcosil LC-8"
          ],
          [
           "Supelcosil LC-8-DB"
          ],
          [
           "Supelcosil LC-PAH"
          ],
          [
           "Superspher 100 RP-18e"
          ],
          [
           "Synergi Fusion-RP"
          ],
          [
           "Synergi Hydro-RP"
          ],
          [
           "Synergi Max-RP"
          ],
          [
           "Synergi Polar-RP"
          ],
          [
           "TSK-gel ODS-140HTP"
          ],
          [
           "TSKgel CN-80Ts"
          ],
          [
           "TSKgel Octyl-80Ts"
          ],
          [
           "TSKgel ODS-100S"
          ],
          [
           "TSKgel ODS-100V"
          ],
          [
           "TSKgel ODS-100Z"
          ],
          [
           "TSKgel ODS-120A"
          ],
          [
           "TSKgel ODS-120T"
          ],
          [
           "TSKgel ODS-80T"
          ],
          [
           "TSKgel ODS-80Ts"
          ],
          [
           "TSKgel ODS-80Ts QA"
          ],
          [
           "TSKgel Super-Octyl"
          ],
          [
           "TSKgel Super-ODS"
          ],
          [
           "TSKgel Super-Phenyl"
          ],
          [
           "Ultimate AQ-C18"
          ],
          [
           "Ultimate LP-C18"
          ],
          [
           "Ultimate Polar-RP"
          ],
          [
           "Ultimate XB-C18"
          ],
          [
           "Ultimate XB-C8"
          ],
          [
           "Ultimate XB-CN"
          ],
          [
           "Ultimate XB-Phenyl"
          ],
          [
           "Ultimate XS-C18"
          ],
          [
           "Ultisil AQ-C18"
          ],
          [
           "Ultisil LP-C18"
          ],
          [
           "Ultisil Polar-RP"
          ],
          [
           "Ultisil XB-C18"
          ],
          [
           "Ultisil XB-C8"
          ],
          [
           "Ultisil XB-Phenyl"
          ],
          [
           "Unison UK-C18"
          ],
          [
           "VDSpher PUR 100 C18-E"
          ],
          [
           "VDSpher PUR 100 C18-H"
          ],
          [
           "VDSpher PUR 100 C18-M"
          ],
          [
           "VDSpher PUR 100 C18-M-SE"
          ],
          [
           "Venusil XBP Phenyl-Hexyl"
          ],
          [
           "Venusil XBP Polar-Phenyl"
          ],
          [
           "VisionHT C18-P"
          ],
          [
           "XSelect CSH Fluoro-Phenyl"
          ],
          [
           "XSelect CSH Phenyl-Hexyl"
          ],
          [
           "YMC-Pack ODS-AQ"
          ],
          [
           "YMC-Pack Pro C18"
          ],
          [
           "YMC-Pack Pro C18 RS"
          ],
          [
           "YMC-Pack Pro C8"
          ],
          [
           "YMC-Triart Bio C18"
          ],
          [
           "YMC-Triart C18"
          ],
          [
           "YMC-Triart C18 ExRS"
          ],
          [
           "YMC-Triart C8"
          ],
          [
           "YMC-Triart PFP"
          ],
          [
           "YMC-Triart Phenyl"
          ],
          [
           "ZirChrom-EZ"
          ],
          [
           "ZirChrom-MS"
          ],
          [
           "ZirChrom-PBD"
          ],
          [
           "ZirChrom-PS"
          ],
          [
           "ZodiacSil 120-5 C18 AQ"
          ],
          [
           "ZodiacSil 120-5-C18 ace EPS"
          ],
          [
           "ZodiacSil 120-5-C18 AQ Plus"
          ],
          [
           "ZodiacSil 120-5-C18H"
          ],
          [
           "ZodiacSil 120-5-C18SH"
          ],
          [
           "ZodiacSil 200-5-C18 ace EPS"
          ],
          [
           "ZodiacSil 200-5-C18AQ"
          ],
          [
           "ZodiacSil 200-5-C18H"
          ],
          [
           "ZodiacSil 300-5-C18ace EPS"
          ],
          [
           "ZodiacSil 300-5-C18H"
          ],
          [
           "ZodiacSil 60-5-C18H"
          ],
          [
           "Zorbax Eclipse XDB-C18"
          ],
          [
           "Zorbax Eclipse XDB-C8"
          ],
          [
           "Zorbax Eclipse XDB-CN"
          ],
          [
           "Zorbax Rx-18"
          ],
          [
           "Zorbax Rx-C8"
          ],
          [
           "Zorbax SB-AQ"
          ],
          [
           "Zorbax SB-CN"
          ],
          [
           "Zorbax SB-Phenyl"
          ],
          [
           "Zorbax XDB-Phenyl"
          ]
         ],
         "hovertemplate": "Search result=True<br>PC1=%{x}<br>PC2=%{y}<br>Name=%{customdata[0]}<extra></extra>",
         "legendgroup": "True",
         "marker": {
          "color": "#EF553B",
          "symbol": "circle"
         },
         "mode": "markers",
         "name": "True",
         "orientation": "v",
         "showlegend": true,
         "type": "scatter",
         "x": [
          1.5712398133536378,
          3.5386259222069874,
          2.1936222780490136,
          -1.3810525538927712,
          0.5865208078488032,
          0.39264771200719345,
          1.7859757911030796,
          -1.096767702021365,
          -1.2082090167768442,
          -0.037381791105006786,
          -1.28971646941258,
          -0.4387573273322694,
          0.43102652676764763,
          0.026673807973112095,
          1.4756452888014002,
          1.3298650491647726,
          0.06227776398740983,
          0.27593356109610057,
          -0.7135869207146818,
          -1.3736486617231476,
          -1.4477385517309351,
          -1.493464275350512,
          -0.6194638072130663,
          -0.03886643326496527,
          0.774692677740266,
          0.638180761631054,
          -0.04838786009481388,
          -0.46765944357866157,
          1.7965226032393888,
          -1.1233453403665625,
          0.5009653872464432,
          1.4181340611841593,
          1.7027966033215998,
          -0.2383105357640264,
          -1.6207089047503886,
          0.8989293315090245,
          -1.4902284752078998,
          -1.6122540083948826,
          -1.2356102024560318,
          -0.3244850143901788,
          0.9064841198895665,
          -1.476313069896411,
          -0.9514980367105946,
          0.8163175190234719,
          -0.393522191988364,
          -0.7193276656934159,
          -0.36461321114668344,
          -0.8389522316484989,
          4.917876386651837,
          1.6727504003886289,
          0.5459357621661033,
          0.527104973529702,
          -0.3951206489863838,
          -0.44228384760682554,
          -1.3309805123593677,
          -0.5000406833490649,
          -1.4294174836509077,
          1.9538678276265489,
          0.6078667806268351,
          -1.3658057416851894,
          1.6689940047180196,
          -1.511798934327289,
          -0.8722553949971413,
          0.5593716544645913,
          1.1915842640371752,
          -1.823719679546738,
          -0.9955439648418125,
          0.06181185836349932,
          -0.9266256313369894,
          -0.009187017152940109,
          -1.4457409225031386,
          0.2992499814943058,
          1.038535236212328,
          4.784394745422432,
          -0.9662260819410885,
          -0.5142211130165528,
          -0.2672653136422342,
          3.2649833382498437,
          -1.5100981747703357,
          -2.3699019020485363,
          -0.008775887005920188,
          1.7409041478041154,
          -0.05973600187512674,
          0.6809783892012514,
          -0.5327800747481305,
          -0.014780434383446658,
          -1.5939628390037248,
          -1.5380421393055974,
          -1.8488771833661062,
          0.15594711572561698,
          0.8019640662799018,
          -0.4670832937375437,
          1.3936537043800672,
          0.8824673591183131,
          3.796010384502685,
          -1.7609100814844418,
          -0.7555750601672213,
          1.1383779297440209,
          0.8325214949591896,
          -0.08855404862287242,
          -1.031678401830193,
          0.24005530917820284,
          -1.1477604317544825,
          -1.5184805439359994,
          -0.4880037382236632,
          -0.9618188367660464,
          2.594694571502744,
          -0.04442721590543552,
          -0.4893923116118853,
          2.1328479587794917,
          0.8791818959523924,
          2.750244960578193,
          -0.930630130364787,
          -0.1080312685857765,
          2.134914375667119,
          1.027904496771567,
          1.471988591637942,
          -1.013039965253911,
          0.3285607043763977,
          -0.661438108113123,
          0.0641365792645638,
          -0.9389363229313135,
          1.2049121843527213,
          1.2777163154142777,
          2.146483161306615,
          -0.7958414697290817,
          3.583231902208019,
          -1.629656992650568,
          1.9358534525351607,
          2.0048647333471656,
          -0.6832027173598042,
          0.3727652395971583,
          -1.1295584488694401,
          -0.10950908132683203,
          -0.4112257308278367,
          -0.25306908414683993,
          0.8136241908304033,
          0.4196965762102825,
          -1.0359211038011216,
          -0.9375888767121101,
          0.6350248164750142,
          -0.08255721505553194,
          1.5483577410291278,
          -0.5578561568263657,
          2.114820950974268,
          2.193760661832957,
          1.5340199516237454,
          -1.984217614988446,
          -0.13966924461647784,
          -1.5408769535081153,
          -0.11852296414629951,
          -0.9750499469827196,
          -1.724581347285978,
          0.9618275039100074,
          -1.1441093748057842,
          -0.3197385753584515,
          -1.138837782039298,
          2.056706825490175,
          -0.42546695406248486,
          0.08712797920218623,
          -1.4824348958486575,
          -0.6406814001277479,
          -0.5564446612641609,
          0.33159719392462295,
          -1.1960797379223205,
          -1.4074677393806583,
          -0.23611116743222194,
          -1.5248002267965735,
          -0.9577789378036046,
          1.281746499556613,
          -0.9144713241178745,
          2.7321598406547807,
          0.16257463167002542,
          -1.3021398840728549,
          0.03454161499440978,
          -0.95172728946828,
          -1.2442504263054412,
          -1.4205134288771535,
          -1.159721794016548,
          -0.5636848778696112,
          -0.41138536995095093,
          -0.24180740599204034,
          -1.1438871465557918,
          1.1276805022684402,
          -0.17308051567004226,
          -0.797346007293287,
          1.6927430602938793,
          -1.0327321690065916,
          -0.1924892096347158,
          1.9236916515571882,
          1.227384810608528,
          -2.045855059767699,
          -0.11954722519984926,
          -0.7882798301626132,
          1.6909086601042012,
          -1.0797797899018973,
          -0.14169904747585818,
          1.2796330010829187,
          -1.0082739597045298,
          -1.1351336388237,
          0.32244823470288114,
          -1.4584306113554428,
          -1.4183001627933263,
          0.6346773236915765,
          1.696789731584848,
          0.039783993104951905,
          1.8833979024453074,
          1.849527738855203,
          -0.39303920582632795,
          -0.6943360575213815,
          -1.563092499288581,
          -0.000912210182358101,
          -0.6184218861992977,
          -0.3623990396775861,
          -2.187069000535769,
          0.2543718719957107,
          0.7417779825042227,
          1.0107929068697388,
          -0.9538803374354486,
          2.220582427720944,
          -3.610142421319446,
          1.5102212398143338,
          -0.7958414697290817,
          2.146483161306615,
          -0.8795061979034077,
          -0.8442030369601656,
          -1.0806930500097698,
          1.9358534525351607,
          -0.806646157095009,
          -0.6174417691457631,
          2.0048647333471656,
          -0.6900722499658185,
          -2.1851852489955332,
          -1.348303727164092,
          -0.3305568279638594,
          1.679960614374551,
          -2.1741651878425086,
          -0.1622063317887725,
          1.3054120816661545,
          1.8568570411764875,
          0.9858733699654406,
          1.1819834220499774
         ],
         "xaxis": "x",
         "y": [
          -0.8370810229220186,
          -0.33776645137247296,
          -0.953417640220119,
          0.8239244240627425,
          0.10768717713028773,
          -0.20089943502623459,
          0.005775922743616772,
          0.7714829685249813,
          0.4125973013353646,
          -0.14361496795062564,
          1.1371519934362506,
          0.06998955243496191,
          -0.05578161621000851,
          0.15659394561221504,
          -1.1094567815173701,
          -1.1407727290730545,
          1.0020301360607324,
          -0.16908142387919478,
          0.36826010856215924,
          0.7531118225112087,
          -0.5721125372781913,
          0.6828548136268451,
          0.3716576836202065,
          0.3462970041944176,
          -0.05238436474323368,
          0.20505545932124572,
          1.2602974925700967,
          -0.06694153065372195,
          -0.9424288339821749,
          -0.3512100470999932,
          -0.5973401753957823,
          2.3541659607988827,
          2.8702470134541005,
          0.3719418422641561,
          -1.5144800349596386,
          -0.2966566883131902,
          0.23162826650483898,
          0.7133042757580714,
          0.4852009236937755,
          0.09284247654156973,
          0.8680123506062695,
          0.41755125236023766,
          1.2180827336460953,
          -0.6746541635699058,
          0.17589122703335694,
          0.5083497322120156,
          0.3147052028380387,
          0.6472680621902941,
          5.518814114380786,
          1.4408072292984218,
          0.47053878319659,
          1.2297160113575003,
          0.9236944649313675,
          0.41860950945171127,
          0.5449028506405501,
          0.3444146693931612,
          0.38835371676409397,
          -1.0209357763650917,
          -0.6823029111079529,
          -0.1966890699636752,
          -1.2021446405436793,
          -0.11180344539323472,
          -0.5082030690542482,
          -0.7130788879307626,
          2.4757176238097567,
          1.6382976706235002,
          0.7041444540565919,
          0.43070793806886193,
          0.45724062133803967,
          0.2507979813796052,
          0.20768656550583237,
          0.8158789886120706,
          -0.016184293014214726,
          3.9088999955446875,
          1.1535618717081964,
          1.3861715808066206,
          0.27276167641830534,
          2.6735371184356636,
          0.5919698818287175,
          -0.4316968222128174,
          0.22132475957529898,
          -1.9393264266496772,
          0.11295834542702417,
          -0.5773954993384975,
          0.5888186918574914,
          0.7211106271574987,
          -0.07464485236654213,
          -1.5713159705773887,
          -0.6545445928985675,
          -0.6005286410674473,
          -0.7584948527655483,
          0.7129284610272796,
          -1.4878102566806193,
          -0.2219786450779436,
          -2.743536880216597,
          -0.16686905424944184,
          -0.5599059092156344,
          -3.139353396680866,
          -2.238214223711127,
          0.43581434780755435,
          0.04532985470398164,
          -0.2039435732170952,
          -0.457459303058258,
          0.6585171602157388,
          0.7061456108710116,
          0.3112477301222984,
          4.824585610135996,
          0.5763756679686837,
          0.2979810183673108,
          0.6169596563756133,
          0.026753768742470558,
          1.5003135945197097,
          0.5497952030556348,
          0.5098798475241693,
          -0.8204435610678327,
          -0.5858956423905564,
          -1.1190067538863782,
          -0.19936918973390308,
          -0.7976929186719075,
          0.4715845777401768,
          0.0878862005533851,
          0.41165831447198853,
          1.8625351444612974,
          -2.4524340835319105,
          2.0108234069904785,
          0.4023307815161874,
          1.2680351972187522,
          -1.8635165940207603,
          1.3282330839963306,
          1.4249418001312468,
          0.1751286589138542,
          4.707891630134498,
          0.9360746408317123,
          0.8819058322821057,
          0.0519484934913674,
          0.5632161153558769,
          -0.037367420378724946,
          -0.02462434917558078,
          0.9168634390621445,
          0.5990400456302917,
          0.09025524967344976,
          0.48552084312200217,
          -1.143195688131371,
          0.25653054958580995,
          -0.7044176542982094,
          2.2396032140404114,
          -1.6342092324579445,
          0.9542694342826327,
          -2.0691298626273023,
          -0.23186576020942878,
          0.6321168712380103,
          0.9980190734611948,
          1.0093461035266653,
          -0.5415537072343632,
          0.9630206666290042,
          -3.042998137796623,
          -1.3010675244233392,
          3.7276836143885377,
          0.17688567591741594,
          0.03251539901742092,
          -1.4464839753017158,
          0.03809319030455381,
          -1.297263486652752,
          -0.13988720145062022,
          -0.8824296081655806,
          0.3576533601807319,
          0.34640985385835954,
          0.48103434453426486,
          0.8767747864699038,
          -1.3717546425747311,
          0.956640239385655,
          0.08435383720559488,
          0.30679200068969753,
          1.1851799313060039,
          0.20556820626255543,
          0.7897387156349065,
          -0.4238037797084793,
          0.4777461579987036,
          -0.11567578700960489,
          0.48814399510549666,
          0.2355175628772056,
          0.5123229226375203,
          0.6549115442609068,
          -1.1738439438272648,
          0.06067145301583578,
          -0.2222319814447734,
          1.6457593190738642,
          0.5837696809345049,
          0.33171718458321275,
          -1.187493238418451,
          -1.0770690606889521,
          -0.14715420549563601,
          0.050020654368066124,
          -0.17797538572766944,
          1.6455978691534476,
          0.5890582954849625,
          0.3673195179008671,
          -1.0557016394479097,
          0.2614076494147767,
          0.536265271082837,
          -0.40817617758915825,
          -0.8206269054502503,
          1.0577672328411674,
          -1.8682011308438187,
          -2.1651576833954778,
          -2.652402355678362,
          -1.0866683868624882,
          0.2234243162681343,
          0.3618453946010896,
          0.9619143358502018,
          1.3699937839870535,
          1.0154828468103967,
          0.1933430712957415,
          0.27338528559423636,
          1.3856554099120644,
          0.39154732522955016,
          -2.5989736831379524,
          -0.42169641506859035,
          -0.36812952023173934,
          -0.532075306648487,
          -0.24910903542894747,
          -4.273790070432182,
          0.4023307815161874,
          2.0108234069904785,
          0.5446037724538022,
          0.48214203065295136,
          0.5841731889171087,
          1.3282330839963306,
          0.29820447016274443,
          0.3830292287804657,
          1.4249418001312468,
          0.16215687659970812,
          0.8575237394881937,
          0.7784541204223989,
          0.7364498445848531,
          -0.9340723563806002,
          0.6133217273335696,
          -0.5473704357900216,
          -1.0519433887210348,
          -0.8899329680066957,
          -1.6846697733386828,
          -1.1408580956909757
         ],
         "yaxis": "y"
        }
       ],
       "layout": {
        "legend": {
         "title": {
          "text": "Search result"
         },
         "tracegroupgap": 0
        },
        "margin": {
         "t": 60
        },
        "template": {
         "data": {
          "bar": [
           {
            "error_x": {
             "color": "#2a3f5f"
            },
            "error_y": {
             "color": "#2a3f5f"
            },
            "marker": {
             "line": {
              "color": "#E5ECF6",
              "width": 0.5
             },
             "pattern": {
              "fillmode": "overlay",
              "size": 10,
              "solidity": 0.2
             }
            },
            "type": "bar"
           }
          ],
          "barpolar": [
           {
            "marker": {
             "line": {
              "color": "#E5ECF6",
              "width": 0.5
             },
             "pattern": {
              "fillmode": "overlay",
              "size": 10,
              "solidity": 0.2
             }
            },
            "type": "barpolar"
           }
          ],
          "carpet": [
           {
            "aaxis": {
             "endlinecolor": "#2a3f5f",
             "gridcolor": "white",
             "linecolor": "white",
             "minorgridcolor": "white",
             "startlinecolor": "#2a3f5f"
            },
            "baxis": {
             "endlinecolor": "#2a3f5f",
             "gridcolor": "white",
             "linecolor": "white",
             "minorgridcolor": "white",
             "startlinecolor": "#2a3f5f"
            },
            "type": "carpet"
           }
          ],
          "choropleth": [
           {
            "colorbar": {
             "outlinewidth": 0,
             "ticks": ""
            },
            "type": "choropleth"
           }
          ],
          "contour": [
           {
            "colorbar": {
             "outlinewidth": 0,
             "ticks": ""
            },
            "colorscale": [
             [
              0,
              "#0d0887"
             ],
             [
              0.1111111111111111,
              "#46039f"
             ],
             [
              0.2222222222222222,
              "#7201a8"
             ],
             [
              0.3333333333333333,
              "#9c179e"
             ],
             [
              0.4444444444444444,
              "#bd3786"
             ],
             [
              0.5555555555555556,
              "#d8576b"
             ],
             [
              0.6666666666666666,
              "#ed7953"
             ],
             [
              0.7777777777777778,
              "#fb9f3a"
             ],
             [
              0.8888888888888888,
              "#fdca26"
             ],
             [
              1,
              "#f0f921"
             ]
            ],
            "type": "contour"
           }
          ],
          "contourcarpet": [
           {
            "colorbar": {
             "outlinewidth": 0,
             "ticks": ""
            },
            "type": "contourcarpet"
           }
          ],
          "heatmap": [
           {
            "colorbar": {
             "outlinewidth": 0,
             "ticks": ""
            },
            "colorscale": [
             [
              0,
              "#0d0887"
             ],
             [
              0.1111111111111111,
              "#46039f"
             ],
             [
              0.2222222222222222,
              "#7201a8"
             ],
             [
              0.3333333333333333,
              "#9c179e"
             ],
             [
              0.4444444444444444,
              "#bd3786"
             ],
             [
              0.5555555555555556,
              "#d8576b"
             ],
             [
              0.6666666666666666,
              "#ed7953"
             ],
             [
              0.7777777777777778,
              "#fb9f3a"
             ],
             [
              0.8888888888888888,
              "#fdca26"
             ],
             [
              1,
              "#f0f921"
             ]
            ],
            "type": "heatmap"
           }
          ],
          "heatmapgl": [
           {
            "colorbar": {
             "outlinewidth": 0,
             "ticks": ""
            },
            "colorscale": [
             [
              0,
              "#0d0887"
             ],
             [
              0.1111111111111111,
              "#46039f"
             ],
             [
              0.2222222222222222,
              "#7201a8"
             ],
             [
              0.3333333333333333,
              "#9c179e"
             ],
             [
              0.4444444444444444,
              "#bd3786"
             ],
             [
              0.5555555555555556,
              "#d8576b"
             ],
             [
              0.6666666666666666,
              "#ed7953"
             ],
             [
              0.7777777777777778,
              "#fb9f3a"
             ],
             [
              0.8888888888888888,
              "#fdca26"
             ],
             [
              1,
              "#f0f921"
             ]
            ],
            "type": "heatmapgl"
           }
          ],
          "histogram": [
           {
            "marker": {
             "pattern": {
              "fillmode": "overlay",
              "size": 10,
              "solidity": 0.2
             }
            },
            "type": "histogram"
           }
          ],
          "histogram2d": [
           {
            "colorbar": {
             "outlinewidth": 0,
             "ticks": ""
            },
            "colorscale": [
             [
              0,
              "#0d0887"
             ],
             [
              0.1111111111111111,
              "#46039f"
             ],
             [
              0.2222222222222222,
              "#7201a8"
             ],
             [
              0.3333333333333333,
              "#9c179e"
             ],
             [
              0.4444444444444444,
              "#bd3786"
             ],
             [
              0.5555555555555556,
              "#d8576b"
             ],
             [
              0.6666666666666666,
              "#ed7953"
             ],
             [
              0.7777777777777778,
              "#fb9f3a"
             ],
             [
              0.8888888888888888,
              "#fdca26"
             ],
             [
              1,
              "#f0f921"
             ]
            ],
            "type": "histogram2d"
           }
          ],
          "histogram2dcontour": [
           {
            "colorbar": {
             "outlinewidth": 0,
             "ticks": ""
            },
            "colorscale": [
             [
              0,
              "#0d0887"
             ],
             [
              0.1111111111111111,
              "#46039f"
             ],
             [
              0.2222222222222222,
              "#7201a8"
             ],
             [
              0.3333333333333333,
              "#9c179e"
             ],
             [
              0.4444444444444444,
              "#bd3786"
             ],
             [
              0.5555555555555556,
              "#d8576b"
             ],
             [
              0.6666666666666666,
              "#ed7953"
             ],
             [
              0.7777777777777778,
              "#fb9f3a"
             ],
             [
              0.8888888888888888,
              "#fdca26"
             ],
             [
              1,
              "#f0f921"
             ]
            ],
            "type": "histogram2dcontour"
           }
          ],
          "mesh3d": [
           {
            "colorbar": {
             "outlinewidth": 0,
             "ticks": ""
            },
            "type": "mesh3d"
           }
          ],
          "parcoords": [
           {
            "line": {
             "colorbar": {
              "outlinewidth": 0,
              "ticks": ""
             }
            },
            "type": "parcoords"
           }
          ],
          "pie": [
           {
            "automargin": true,
            "type": "pie"
           }
          ],
          "scatter": [
           {
            "fillpattern": {
             "fillmode": "overlay",
             "size": 10,
             "solidity": 0.2
            },
            "type": "scatter"
           }
          ],
          "scatter3d": [
           {
            "line": {
             "colorbar": {
              "outlinewidth": 0,
              "ticks": ""
             }
            },
            "marker": {
             "colorbar": {
              "outlinewidth": 0,
              "ticks": ""
             }
            },
            "type": "scatter3d"
           }
          ],
          "scattercarpet": [
           {
            "marker": {
             "colorbar": {
              "outlinewidth": 0,
              "ticks": ""
             }
            },
            "type": "scattercarpet"
           }
          ],
          "scattergeo": [
           {
            "marker": {
             "colorbar": {
              "outlinewidth": 0,
              "ticks": ""
             }
            },
            "type": "scattergeo"
           }
          ],
          "scattergl": [
           {
            "marker": {
             "colorbar": {
              "outlinewidth": 0,
              "ticks": ""
             }
            },
            "type": "scattergl"
           }
          ],
          "scattermapbox": [
           {
            "marker": {
             "colorbar": {
              "outlinewidth": 0,
              "ticks": ""
             }
            },
            "type": "scattermapbox"
           }
          ],
          "scatterpolar": [
           {
            "marker": {
             "colorbar": {
              "outlinewidth": 0,
              "ticks": ""
             }
            },
            "type": "scatterpolar"
           }
          ],
          "scatterpolargl": [
           {
            "marker": {
             "colorbar": {
              "outlinewidth": 0,
              "ticks": ""
             }
            },
            "type": "scatterpolargl"
           }
          ],
          "scatterternary": [
           {
            "marker": {
             "colorbar": {
              "outlinewidth": 0,
              "ticks": ""
             }
            },
            "type": "scatterternary"
           }
          ],
          "surface": [
           {
            "colorbar": {
             "outlinewidth": 0,
             "ticks": ""
            },
            "colorscale": [
             [
              0,
              "#0d0887"
             ],
             [
              0.1111111111111111,
              "#46039f"
             ],
             [
              0.2222222222222222,
              "#7201a8"
             ],
             [
              0.3333333333333333,
              "#9c179e"
             ],
             [
              0.4444444444444444,
              "#bd3786"
             ],
             [
              0.5555555555555556,
              "#d8576b"
             ],
             [
              0.6666666666666666,
              "#ed7953"
             ],
             [
              0.7777777777777778,
              "#fb9f3a"
             ],
             [
              0.8888888888888888,
              "#fdca26"
             ],
             [
              1,
              "#f0f921"
             ]
            ],
            "type": "surface"
           }
          ],
          "table": [
           {
            "cells": {
             "fill": {
              "color": "#EBF0F8"
             },
             "line": {
              "color": "white"
             }
            },
            "header": {
             "fill": {
              "color": "#C8D4E3"
             },
             "line": {
              "color": "white"
             }
            },
            "type": "table"
           }
          ]
         },
         "layout": {
          "annotationdefaults": {
           "arrowcolor": "#2a3f5f",
           "arrowhead": 0,
           "arrowwidth": 1
          },
          "autotypenumbers": "strict",
          "coloraxis": {
           "colorbar": {
            "outlinewidth": 0,
            "ticks": ""
           }
          },
          "colorscale": {
           "diverging": [
            [
             0,
             "#8e0152"
            ],
            [
             0.1,
             "#c51b7d"
            ],
            [
             0.2,
             "#de77ae"
            ],
            [
             0.3,
             "#f1b6da"
            ],
            [
             0.4,
             "#fde0ef"
            ],
            [
             0.5,
             "#f7f7f7"
            ],
            [
             0.6,
             "#e6f5d0"
            ],
            [
             0.7,
             "#b8e186"
            ],
            [
             0.8,
             "#7fbc41"
            ],
            [
             0.9,
             "#4d9221"
            ],
            [
             1,
             "#276419"
            ]
           ],
           "sequential": [
            [
             0,
             "#0d0887"
            ],
            [
             0.1111111111111111,
             "#46039f"
            ],
            [
             0.2222222222222222,
             "#7201a8"
            ],
            [
             0.3333333333333333,
             "#9c179e"
            ],
            [
             0.4444444444444444,
             "#bd3786"
            ],
            [
             0.5555555555555556,
             "#d8576b"
            ],
            [
             0.6666666666666666,
             "#ed7953"
            ],
            [
             0.7777777777777778,
             "#fb9f3a"
            ],
            [
             0.8888888888888888,
             "#fdca26"
            ],
            [
             1,
             "#f0f921"
            ]
           ],
           "sequentialminus": [
            [
             0,
             "#0d0887"
            ],
            [
             0.1111111111111111,
             "#46039f"
            ],
            [
             0.2222222222222222,
             "#7201a8"
            ],
            [
             0.3333333333333333,
             "#9c179e"
            ],
            [
             0.4444444444444444,
             "#bd3786"
            ],
            [
             0.5555555555555556,
             "#d8576b"
            ],
            [
             0.6666666666666666,
             "#ed7953"
            ],
            [
             0.7777777777777778,
             "#fb9f3a"
            ],
            [
             0.8888888888888888,
             "#fdca26"
            ],
            [
             1,
             "#f0f921"
            ]
           ]
          },
          "colorway": [
           "#636efa",
           "#EF553B",
           "#00cc96",
           "#ab63fa",
           "#FFA15A",
           "#19d3f3",
           "#FF6692",
           "#B6E880",
           "#FF97FF",
           "#FECB52"
          ],
          "font": {
           "color": "#2a3f5f"
          },
          "geo": {
           "bgcolor": "white",
           "lakecolor": "white",
           "landcolor": "#E5ECF6",
           "showlakes": true,
           "showland": true,
           "subunitcolor": "white"
          },
          "hoverlabel": {
           "align": "left"
          },
          "hovermode": "closest",
          "mapbox": {
           "style": "light"
          },
          "paper_bgcolor": "white",
          "plot_bgcolor": "#E5ECF6",
          "polar": {
           "angularaxis": {
            "gridcolor": "white",
            "linecolor": "white",
            "ticks": ""
           },
           "bgcolor": "#E5ECF6",
           "radialaxis": {
            "gridcolor": "white",
            "linecolor": "white",
            "ticks": ""
           }
          },
          "scene": {
           "xaxis": {
            "backgroundcolor": "#E5ECF6",
            "gridcolor": "white",
            "gridwidth": 2,
            "linecolor": "white",
            "showbackground": true,
            "ticks": "",
            "zerolinecolor": "white"
           },
           "yaxis": {
            "backgroundcolor": "#E5ECF6",
            "gridcolor": "white",
            "gridwidth": 2,
            "linecolor": "white",
            "showbackground": true,
            "ticks": "",
            "zerolinecolor": "white"
           },
           "zaxis": {
            "backgroundcolor": "#E5ECF6",
            "gridcolor": "white",
            "gridwidth": 2,
            "linecolor": "white",
            "showbackground": true,
            "ticks": "",
            "zerolinecolor": "white"
           }
          },
          "shapedefaults": {
           "line": {
            "color": "#2a3f5f"
           }
          },
          "ternary": {
           "aaxis": {
            "gridcolor": "white",
            "linecolor": "white",
            "ticks": ""
           },
           "baxis": {
            "gridcolor": "white",
            "linecolor": "white",
            "ticks": ""
           },
           "bgcolor": "#E5ECF6",
           "caxis": {
            "gridcolor": "white",
            "linecolor": "white",
            "ticks": ""
           }
          },
          "title": {
           "x": 0.05
          },
          "xaxis": {
           "automargin": true,
           "gridcolor": "white",
           "linecolor": "white",
           "ticks": "",
           "title": {
            "standoff": 15
           },
           "zerolinecolor": "white",
           "zerolinewidth": 2
          },
          "yaxis": {
           "automargin": true,
           "gridcolor": "white",
           "linecolor": "white",
           "ticks": "",
           "title": {
            "standoff": 15
           },
           "zerolinecolor": "white",
           "zerolinewidth": 2
          }
         }
        },
        "xaxis": {
         "anchor": "y",
         "domain": [
          0,
          1
         ],
         "title": {
          "text": "PC1"
         }
        },
        "yaxis": {
         "anchor": "x",
         "domain": [
          0,
          1
         ],
         "title": {
          "text": "PC2"
         }
        }
       }
      },
      "text/html": [
       "<div>                            <div id=\"bdadd5c4-b135-4522-95c6-21a01e9c7b53\" class=\"plotly-graph-div\" style=\"height:525px; width:100%;\"></div>            <script type=\"text/javascript\">                require([\"plotly\"], function(Plotly) {                    window.PLOTLYENV=window.PLOTLYENV || {};                                    if (document.getElementById(\"bdadd5c4-b135-4522-95c6-21a01e9c7b53\")) {                    Plotly.newPlot(                        \"bdadd5c4-b135-4522-95c6-21a01e9c7b53\",                        [{\"customdata\":[[\"Acclaim 120 C18\"],[\"Acclaim 120 C8\"],[\"Acclaim C30\"],[\"Acclaim Organic Acid\"],[\"Acclaim Polar Advantage\"],[\"Acclaim PolarAdvantage II\"],[\"Acclaim300 C18\"],[\"Accucore aQ\"],[\"Accucore Biphenyl\"],[\"Accucore C18\"],[\"Accucore C30\"],[\"Accucore C8\"],[\"Accucore PFP\"],[\"Accucore Polar Premium\"],[\"Accucore XL C18\"],[\"Accucore XL C8\"],[\"ACE 5 AQ\"],[\"ACE 5 C18\"],[\"ACE 5 C4\"],[\"ACE 5 C8\"],[\"ACE 5 CN\"],[\"ACE 5 Phenyl\"],[\"Acquity UPLC BEH C18\"],[\"Acquity UPLC BEH C8\"],[\"Acquity UPLC BEH Phenyl\"],[\"Acquity UPLC CSH C18\"],[\"Adsorbosphere C18\"],[\"Adsorpbosphere UHS C18\"],[\"Advantage 300\"],[\"Advantage Armor C18 120A\"],[\"Agilent 5 Prep C18 Scalar\"],[\"Allsphere ODS1\"],[\"Allsphere ODS2\"],[\"Alltima AQ\"],[\"Alltima C18\"],[\"Alltima C8\"],[\"Alltima HP C18\"],[\"Alltima HP C18 Amide\"],[\"Alltima HP C18 EPS\"],[\"Alltima HP C18 High Load\"],[\"Alltima HP C8\"],[\"Alltima HP CN\"],[\"Allure Aqueous C18\"],[\"Allure Basix\"],[\"Allure Biphenyl\"],[\"Allure C18\"],[\"Allure Organic Acids\"],[\"Allure PFP Propyl\"],[\"Alphabond (C18)\"],[\"Apex C18\"],[\"Apex C8\"],[\"Apex II C18\"],[\"apHera C18 Polymer\"],[\"Aqua C18\"],[\"Aquasil C18\"],[\"Armor C18 3um\"],[\"Ascentis C18\"],[\"Ascentis C8\"],[\"Ascentis ES Cyano\"],[\"Ascentis Express 5 C18\"],[\"Ascentis Express 5 F5\"],[\"Ascentis Express Biphenyl\"],[\"Ascentis Express C18\"],[\"Ascentis Express C8\"],[\"Ascentis Express F5\"],[\"Ascentis Phenyl\"],[\"Athena C18\"],[\"Athena C8\"],[\"Athena Phenyl\"],[\"Atlantis dC18\"],[\"Atlantis T3\"],[\"Balancil C18\"],[\"BetaBasic CN\"],[\"BetaBasic Phenyl\"],[\"BetaMax Acid\"],[\"BetaMax Base\"],[\"Betasil C18\"],[\"Betasil C18\"],[\"Betasil C8\"],[\"BioBasic 4\"],[\"BioBasic CN\"],[\"BioBasic Phenyl\"],[\"Biobond C18\"],[\"Biobond C4\"],[\"Biobond C8\"],[\"BioResolve RP mAb\"],[\"BIOshell A160 Peptide C18\"],[\"BIOshell A160 Peptide CN\"],[\"BIOshell A400 Protein C18\"],[\"BIOshell A400 Protein C4\"],[\"Bondclone C18\"],[\"Brava BDS C18\"],[\"CAPCELL C18 ACR\"],[\"CAPCELL C18 AG120\"],[\"CAPCELL C18 AQ\"],[\"CAPCELL C18 MG\"],[\"CAPCELL C18 SG120\"],[\"CAPCELL C18 UG120\"],[\"Capcell Pak C18 IF\"],[\"Capcell Pak C18 MG III\"],[\"Capcell Pak C18 MGII\"],[\"CAPCELL PAK C8 DD\"],[\"CAPCELL PAK C8 UG120\"],[\"Chromegabond WR C18\"],[\"Chromegabond WR C8\"],[\"Chromolith RP18e\"],[\"Clipeus C18\"],[\"Clipeus C8\"],[\"Clipeus Cyano\"],[\"Clipeus Phenyl\"],[\"Cogent Bidentate C18\"],[\"Cogent Bidentate C8\"],[\"Cogent HPS C18\"],[\"Cogent hQ C18\"],[\"Cogent UDC Cholesterol\"],[\"Cortecs C18\"],[\"Cortecs C18+\"],[\"Cortecs C8\"],[\"Cortecs Phenyl\"],[\"Cortecs T3\"],[\"Cortecs UPLC Shield RP18\"],[\"Cosmicsil Abra C18\"],[\"Cosmicsil Adore 100 CN\"],[\"Cosmicsil Adze C18\"],[\"Cosmicsil Agate 100 C18\"],[\"Cosmicsil Agate RP C18\"],[\"Cosmicsil Agate RP C8\"],[\"Cosmicsil APT C18\"],[\"Cosmicsil AQ C18 120\"],[\"Cosmicsil Aster C18 XD\"],[\"Cosmicsil Aura ODS\"],[\"Cosmicsil BDS C18\"],[\"Cosmicsil Glory C18\"],[\"Cosmosil 5PYE\"],[\"Cosmosil piNap\"],[\"DeltaPak C18 100A\"],[\"DeltaPak C18 300A\"],[\"Denali 120A C18\"],[\"Discovery Amide C16\"],[\"Discovery BIO Wide pore C18\"],[\"Discovery BIO Wide pore C5\"],[\"Discovery BIO Wide pore C8\"],[\"Discovery C18\"],[\"Discovery C8\"],[\"Discovery CN\"],[\"Discovery HS F5\"],[\"Discovery HS PEG\"],[\"Durashell C18\"],[\"Econosil C18\"],[\"Econosphere C18\"],[\"Endeavorsil C18\"],[\"Epic C18\"],[\"Epic C4\"],[\"Epic C8\"],[\"Epic Phenyl Hexyl\"],[\"EU Reference Column\"],[\"Excel SuperC18\"],[\"Exsil C8\"],[\"Exsil ODS\"],[\"Flare C18\"],[\"Flare C18+\"],[\"Flowrosil C18 AQ\"],[\"Flowrosil C8\"],[\"Flowrosil ODS\"],[\"Fluophase PFP\"],[\"Fluophase RP\"],[\"Fortis C18\"],[\"Fortis C8\"],[\"Fortis Cyano\"],[\"Fortis H2O\"],[\"Fortis Phenyl\"],[\"Fortis UniverSil C18\"],[\"Fortis UniverSil HS C18\"],[\"Gazelle C18\"],[\"Gemini C18 110A\"],[\"Genesis AQ 120A\"],[\"Genesis C18 120A\"],[\"Genesis C18 300A\"],[\"Genesis C4 300A\"],[\"Genesis C4 EC 120A\"],[\"Genesis C8 120A\"],[\"Genesis CN 120A\"],[\"Genesis CN 300A\"],[\"Genesis EC C8 120A\"],[\"Genesis Phenyl\"],[\"GraceSmart RP 18\"],[\"GraceSmart RP 18 5u\"],[\"GROM Saphire 110 C18\"],[\"GROM Saphire 110 C8\"],[\"Haisil 300 C18\"],[\"Haisil HL C18\"],[\"Halo 5 C18\"],[\"Halo 5 C8\"],[\"Halo 5 PFP\"],[\"Halo Biphenyl\"],[\"Halo C18\"],[\"Halo C30\"],[\"Halo C8\"],[\"HALO PFP\"],[\"Heavy C18\"],[\"Hichrom 300 5 RPB\"],[\"Hichrom RPB\"],[\"HSS C18\"],[\"HSS C18 SB\"],[\"HSS T3\"],[\"HxSil C18\"],[\"HxSil C8\"],[\"HyperClone BDS C18 130A\"],[\"HyperClone BDS C8 130A\"],[\"HyperClone CN (CPS)\"],[\"HyperClone MOS C8 120A\"],[\"HyperClone ODS C18 120A\"],[\"HyperClone PAH\"],[\"Hypersil ODS\"],[\"Hypersil 100 C18\"],[\"Hypersil BDS C18\"],[\"Hypersil Betamax Neutral\"],[\"Hypersil Elite\"],[\"Hypersil GOLD\"],[\"Hypersil GOLD aQ\"],[\"Hypersil GOLD C4\"],[\"Hypersil GOLD C8\"],[\"Hypersil GOLD CN\"],[\"Hypersil GOLD PFP\"],[\"Hypersil GOLD Phenyl\"],[\"Hypersil ODS\"],[\"Hypersil PAH\"],[\"Hypersil Prism C18 RP\"],[\"Hypersil Prism C18 RPN\"],[\"Hypurity Advance\"],[\"Hypurity C18\"],[\"HyPurity C4\"],[\"Hypurity C8\"],[\"Hypurity Cyano\"],[\"Inertsil WP300 C18\"],[\"Inertsil WP300 C8\"],[\"InertSustain C18\"],[\"InertSustain C8\"],[\"InertSustain Cyano\"],[\"InertSustain Phenyl\"],[\"InertSustain Phenylhexyl\"],[\"InertSustainSwift C18\"],[\"InertSustainSwift C8\"],[\"Innoval C18\"],[\"Inspire C18\"],[\"Inspire C8\"],[\"J'Sphere H80\"],[\"J'Sphere L80\"],[\"J'Sphere M80\"],[\"Jupiter 300 C18\"],[\"Jupiter 300 C4\"],[\"Jupiter 300 C5\"],[\"Kanak C18\"],[\"Kanak C4\"],[\"Kanak PheHex\"],[\"Kinetex Biphenyl 100A\"],[\"Kinetex C18 100A\"],[\"Kinetex C8\"],[\"Kinetex EVO C18\"],[\"Kinetex F5\"],[\"Kinetex PFP 100A\"],[\"Kromasil 100 5 C18\"],[\"Kromasil 100 5 C4\"],[\"Kromasil 100 5 C8\"],[\"Kromasil KR60 5 CN\"],[\"LaChrom C18\"],[\"LaChrom C8\"],[\"LaChrom CN\"],[\"LaChrom Ph\"],[\"Leapsil C18\"],[\"Luna C18\"],[\"Luna C18(2)\"],[\"Luna C5\"],[\"Luna C8\"],[\"Luna C8(2)\"],[\"Luna CN\"],[\"Luna Omega C18\"],[\"Luna Omega Polar C18\"],[\"Luna Omega PS C18\"],[\"Luna PFP(2)\"],[\"Matrix C18\"],[\"MicroBondapak C18\"],[\"MicroBondapak Phenyl\"],[\"Monitor C18\"],[\"Nucleodur C18 Gravity\"],[\"Nucleodur C8 Gravity 5 micron\"],[\"Nucleodur HTEC C18\"],[\"Nucleodur Isis\"],[\"Nucleodur PAH C18\"],[\"Nucleodur PFP\"],[\"Nucleodur POLARTEC C18\"],[\"Nucleodur Pyramid\"],[\"Nucleodur Sphinx RP\"],[\"Nucleoshell RP 18\"],[\"Nucleosil C8\"],[\"Nucleosil 100 5 C18 HD\"],[\"Nucleosil 100 5 C18 Nautilus\"],[\"Nucleosil 300 5 C18\"],[\"Nucleosil C18\"],[\"OmniSpher 5 C18\"],[\"Onyx Monolithic C18\"],[\"Onyx Monolithic C8\"],[\"Orosil C18\"],[\"Orosil Polar C18\"],[\"Partisil C8\"],[\"Partisil ODS(3)\"],[\"Phalanx C18\"],[\"Pinnacle DB Aqueous C18\"],[\"Pinnacle DB Biphenyl\"],[\"Pinnacle DB C18\"],[\"Pinnacle DB C8\"],[\"Pinnacle DB Cyano\"],[\"Pinnacle DB PFP Propyl\"],[\"Pinnacle DB Phenyl\"],[\"Pinnacle II Biphenyl\"],[\"Pinnacle II C18\"],[\"Pinnacle II C8\"],[\"Pinnacle II Cyano\"],[\"Pinnacle II PAH\"],[\"Pinnacle II Phenyl\"],[\"Platinum C18\"],[\"Platinum C8\"],[\"Platinum EPS C18\"],[\"Platinum EPS C18 300\"],[\"Platinum EPS C8\"],[\"Platinum EPS C8 300\"],[\"Polar C18\"],[\"Poroshell 120 HPH C18\"],[\"Poroshell 120 HPH C8\"],[\"Poroshell 120 PFP\"],[\"Precision C18\"],[\"Precision C8\"],[\"Precision CN\"],[\"Precision Phenyl\"],[\"Prevail Amide\"],[\"Prevail C18\"],[\"Prevail C8\"],[\"Prevail Select C18\"],[\"Primesep A\"],[\"Primesep B\"],[\"Primesep C\"],[\"Primesil C18 3 micron\"],[\"Primesil C18 5 micron\"],[\"Primesil C8\"],[\"Primesil C8\"],[\"Prodigy ODS(2)\"],[\"Prodigy ODS(3)\"],[\"Promosil C18\"],[\"ProntoSIL 120 C1\"],[\"ProntoSIL 120 C18 AQplus\"],[\"ProntoSIL 120 C18 H\"],[\"ProntoSIL 120 C18 SH\"],[\"ProntoSIL 120 C8 SH\"],[\"ProntoSIL 120 CN EC\"],[\"ProntoSIL 120 Phenyl\"],[\"ProntoSIL 200 C18 AQ\"],[\"ProntoSIL 200 C18 H\"],[\"ProntoSIL 200 C30\"],[\"ProntoSIL 200 C4\"],[\"ProntoSIL 200 C8 SH\"],[\"ProntoSIL 300 C30\"],[\"ProntoSIL 300 C30 EC\"],[\"ProntoSIL 300 C4\"],[\"ProntoSIL 300 C8 SH\"],[\"ProntoSIL 60 C18 H\"],[\"ProntoSIL 60 C4\"],[\"ProntoSIL 60 C8 SH\"],[\"ProntoSIL 60 Phenyl\"],[\"ProntoSIL CN\"],[\"ProntoSIL HyperSORB 120 ODS\"],[\"ProntoSIL SpheriBOND 80 ODS1\"],[\"ProntoSIL SpheriBOND 80 ODS2\"],[\"Prosphere 100 C18\"],[\"Prosphere 300 C4\"],[\"Prosphere C18 300A\"],[\"Proto 300 C18\"],[\"Purospher STAR RP18e\"],[\"Pursuit C18\"],[\"Pursuit DP\"],[\"Pursuit PFP\"],[\"Pursuit UPS C18\"],[\"Pursuit XRs DP\"],[\"Reliasil C18\"],[\"Resolve C18\"],[\"Robusta C18\"],[\"Selectosil C18\"],[\"Selectra Aqueous C18\"],[\"Selectra C18\"],[\"Selectra PFPP\"],[\"Sphereclone ODS(2)\"],[\"Spherisorb C8\"],[\"Spherisorb S5 ODSB\"],[\"Spursil C18\"],[\"Sunfire C18\"],[\"Sunfire C8\"],[\"Sunniest Biphenyl\"],[\"Sunniest C18\"],[\"Sunniest C8\"],[\"Sunniest PFP\"],[\"Sunniest PFP&C18\"],[\"Sunniest PhE\"],[\"SunShell Biphenyl\"],[\"Sunshell C18\"],[\"Sunshell C8\"],[\"Sunshell PFP\"],[\"SunShell PFP&C18\"],[\"Sunshell Phenyl\"],[\"Svea C18\"],[\"Svea C4\"],[\"Svea C8\"],[\"Svea CN\"],[\"Svea PFP\"],[\"Svea PheHex\"],[\"Symmetry 300 C18\"],[\"Symmetry 300 C4\"],[\"Symmetry C18\"],[\"Symmetry C4\"],[\"Symmetry C8\"],[\"SymmetryShield C18\"],[\"SymmetryShield C8\"],[\"SynChropak RP8\"],[\"SynChropak RPP\"],[\"SynChropak RPP 100\"],[\"Syncronis aQ\"],[\"Syncronis C18\"],[\"Syncronis C8\"],[\"Syncronis Phenyl\"],[\"Targa C18\"],[\"Targa C8\"],[\"Targetsil C18 HPH\"],[\"Targetsil C18 Polar\"],[\"Thermo CN\"],[\"Titan C18\"],[\"Topsil C18\"],[\"Triart Bio C4\"],[\"TSKgel OligoDNA RP\"],[\"Ultimate PFP\"],[\"Ultimate Plus C18\"],[\"Ultra Aqueous C18\"],[\"Ultra Aromax\"],[\"Ultra Biphenyl\"],[\"Ultra C1\"],[\"Ultra C18\"],[\"Ultra C4\"],[\"Ultra C8\"],[\"Ultra Cyano\"],[\"Ultra IBD\"],[\"Ultra II Aqueous C18\"],[\"Ultra II Aromax\"],[\"Ultra II Biphenyl\"],[\"Ultra II C18\"],[\"Ultra II IBD\"],[\"Ultra II PFP Propyl\"],[\"Ultra PFP\"],[\"Ultra PFP Propyl\"],[\"Ultra Phenyl\"],[\"Ultra Quat\"],[\"Ultracarb ODS (30)\"],[\"Ultracore SuperC18\"],[\"UltraCore SuperPhenylHexyl\"],[\"UltraSep ES AMID H RP18P\"],[\"UltraSep ES PHARM RP18\"],[\"Ultrasphere Octyl\"],[\"Ultrasphere ODS\"],[\"Unisol C18\"],[\"Venusil ASB C18\"],[\"Venusil ASB C8\"],[\"Venusil HLP\"],[\"Venusil PFP\"],[\"Venusil XBP C18(2)\"],[\"Venusil XBP C18(L)\"],[\"Venusil XBP CN\"],[\"Venusil XBP Phenyl\"],[\"Vision C18 B\"],[\"Vision C18 HL\"],[\"VisionHT C18\"],[\"Viva Biphenyl\"],[\"Viva C18\"],[\"Viva C4\"],[\"Viva C8\"],[\"Viva PFP Propyl\"],[\"Vydac 201TP\"],[\"Vydac 218MS\"],[\"Vydac 218MSC18\"],[\"Vydac 218TP\"],[\"Vydac C18 Monomeric\"],[\"Vydac Everest\"],[\"Wakosil 5 C8 RS\"],[\"Wakosil II 5 C18 AR\"],[\"Wakosil II 5 C18 HG\"],[\"Wakosil II 5 C18 RS\"],[\"XBridge C18\"],[\"XBridge C8\"],[\"XBridge Phenyl\"],[\"Xbridge Protein BEH C4\"],[\"XBridge Shield RP18\"],[\"XSelect CSH C18\"],[\"Xselect HSS Cyano\"],[\"Xselect HSS PFP\"],[\"XTerra C18 RP\"],[\"XTerra C8 RP\"],[\"XTerra MS C18\"],[\"XTerra MS C8\"],[\"XTerra Phenyl\"],[\"Xtimate C18\"],[\"Xtimate C8\"],[\"YMC Basic\"],[\"YMC Hydrosphere C18\"],[\"Zodiac C18\"],[\"Zodiac C18(1)\"],[\"Zorbax Bonus RP\"],[\"Zorbax C18\"],[\"Zorbax C8\"],[\"Zorbax Eclipse PAH\"],[\"Zorbax Eclipse Plus C18\"],[\"Zorbax Eclipse Plus C8\"],[\"Zorbax Extend C18\"],[\"Zorbax StableBond 300A C18\"],[\"Zorbax StableBond 300A C3\"],[\"Zorbax StableBond 300A C8\"],[\"Zorbax StableBond 80A C18\"],[\"Zorbax StableBond 80A C3\"],[\"Zorbax StableBond 80A C8\"]],\"hovertemplate\":\"Search result=False\\u003cbr\\u003ePC1=%{x}\\u003cbr\\u003ePC2=%{y}\\u003cbr\\u003eName=%{customdata[0]}\\u003cextra\\u003e\\u003c\\u002fextra\\u003e\",\"legendgroup\":\"False\",\"marker\":{\"color\":\"#636efa\",\"symbol\":\"circle\"},\"mode\":\"markers\",\"name\":\"False\",\"orientation\":\"v\",\"showlegend\":true,\"x\":[-0.9763862419121164,0.07498346350729174,-0.7430323819080359,0.8577921250182496,0.30181084149641607,2.1896172568986425,-0.5364148946186056,-1.7669146581811956,1.5290495107424409,-1.8726972298814035,-0.7410320307926056,-0.6335114590940117,0.0871055072597919,1.40832990388186,-1.886376483076655,-0.503661305236488,0.30454886906481243,-0.969065530217647,0.5370390242719192,-0.0011237468070732178,2.983108351410152,1.398928982516918,-0.39358836997035834,-0.5721140796116232,0.33026955869055974,0.8374477358098397,-1.9629900027386844,-2.2515223720493176,-1.0731903664809046,-0.6980893205994912,-1.851822688158937,-0.7478750593520788,-2.0534607152319766,-0.9471869020318961,-1.068744067957948,0.39906821403961107,-0.8491790032828477,0.651137799000897,-0.38175861826748375,-1.0673801694743419,-0.16648690618081433,2.0960309341881254,-1.4089968768149372,2.06116746266864,1.5391785871483057,-1.882641666652636,-1.4792826122632157,1.6114793718157019,-0.5644688124991444,-1.4413825113562504,-0.7577691191915232,-1.9240185177057232,2.3037315039068944,-0.8102664382169812,-1.4713542852752266,-0.7324369836295622,-1.6332090410988422,-0.24617595775013174,1.9551324524875948,-2.052276039493874,-0.36778980263198985,1.2867831931366822,-1.953208306437421,-0.49470291592513743,-0.7516658364907344,0.971949591065851,-1.037892924135337,0.04559754677374095,1.8291234938328451,-0.16751734223284373,-0.2786525671736432,-0.13147932452806432,2.071592826961138,2.0561713995441235,4.52231169084327,1.8744440453890732,-1.2351279948606322,-1.5212326964289853,-0.11204903131301905,0.45783271303902323,2.90214834866441,4.174100851646654,-0.5886364513926894,0.6534554545058381,0.13990327393063443,2.195157993168938,-0.8722553949971413,1.9785279865729122,0.0774652438527742,1.727492766359921,0.2423319556419084,-0.8137259991019178,-1.4338024762672612,-2.2642801031770348,-0.09961240353301734,-1.1478985476465404,-1.4135276152913485,-1.2265456263865655,-0.3435310017160251,-0.5540688442942198,-1.1321718877300777,-0.07106878664157586,-0.4557023076330883,-0.8700895967295628,-0.04705985176995934,-1.1804983243932046,-0.9859926408199937,0.07256255195728056,2.071539914302913,1.6156222166716465,-1.2985153783080756,-0.3232031818820316,-0.9634482798418195,-1.2815464263048035,-2.0264016429012055,-1.4282980083682086,-1.2898810643709824,-0.29459629397824505,0.8548985422355996,-0.34710610685211657,0.7789395366519609,1.7174849455374364,2.4637343315688005,-0.5962951632651858,-0.7594467021162187,-1.260255484634192,0.02380894913686358,-1.0480086028965554,-0.5341551454871205,-1.5514936053066795,-0.15742208302770966,-1.1364356106745381,-0.7498453594974046,2.015516581703334,1.4895103000166625,-1.0761514816465847,-0.662278164789899,-1.7110703027598524,2.3115053376610675,0.07586687832739032,0.873778344331959,0.0087269112400288,-0.8621803336747014,0.04088730579359424,2.7960501161745346,-0.3031674137331891,3.6284395458339422,-1.208293835265996,-2.197647896969205,-0.6427746205523353,-1.0809042605591037,-0.21121997900702952,0.5142197441521581,-0.23899047039225496,1.3280454868318299,-1.631834592506823,-0.6135683476425804,-0.1360761727552394,-2.1826988265563907,6.240756764758034,3.704106559864055,-0.02229572107016998,-0.10492935378189981,-0.8795133569293704,1.0338300336149497,-0.8230884584749829,-0.2648205546544336,-0.08401854560720998,2.120585222582026,-1.5975163284968845,1.9013157557388698,-0.32647956252400323,-0.6727573428890623,-1.3503338214423117,-0.7710072582997163,-0.43362449195868824,-0.9347707798458007,-0.8345554421367982,1.3881796301551421,1.1699184191364485,-0.15979479478818207,2.774243229898452,2.7793766731164053,-0.10229311383490083,1.770530513017041,-0.4801532928693447,-0.4801532928693447,-1.279602335756427,0.13724647692667405,-1.0026004731761107,-0.9473422968519271,-2.0851658063655854,-0.5506370323841818,-0.3990567183300646,1.492379611892189,-1.7623100259769149,-0.270405764115836,-0.4910837159170866,-0.4436644940113895,-1.0605471680574354,-1.0512906130502424,-1.2440612883493145,-1.03454100381388,-0.5666825778374228,-0.3515460900873362,-0.8727028895774644,0.3233603174138063,-1.2436279715037388,-0.2677186406660533,1.850238821644795,-0.4369114477371581,-1.3556951114930937,-2.1809816662326527,-1.1164717391557495,-1.5438348482632616,-1.022127143668507,-1.654261671543886,-1.5219258937776725,-0.5199114661943307,-0.8138894611921097,0.6494564389399125,-0.0298200297575147,2.943340205612235,0.4942813957948165,1.3706322859091051,-1.056588024302087,-2.0655543959826805,4.222794858483431,1.7569390433239085,3.479854693534626,-0.9386930565964452,0.5929853462524199,0.0012254691302895962,2.1225398489463463,-0.6066148292211468,0.1612178653553941,-1.3178573118922343,-0.038544165199254014,1.75658629058396,2.024508677892366,0.827768590140577,0.02376211455639564,0.4093654644418821,-1.4302497515624437,-0.940609069696417,0.07744224747841456,-1.7140140694478418,0.6551226898501221,-0.17162367289313502,-0.6098111680469634,0.8585261170239494,0.6081574241099151,-1.4110283595538258,0.5735980107774821,0.7891528367017119,2.0978151237749056,-0.6201446661462023,-0.08962534031969561,-0.6664482082445973,0.5688311558963599,-0.5288304868581766,-1.2434294589981916,0.6438078596824709,-0.10741476015750755,2.4252917057274708,-0.4844078718882229,0.15399526516719877,1.9644139282250186,1.5775085925196788,-1.304771185176362,-0.992741809361055,-0.6315105682673625,0.24948007652237042,-0.288745836615687,-0.09666496771216625,1.5778992788758772,-0.5125357442575451,0.22765590907809058,0.2521252265413057,0.64091058037422,-0.756217931263285,-0.054739976172484106,1.4275357877644443,-0.6267456511330537,-1.1711149329299986,-0.048039277273522744,-1.0029318163607936,-1.2090699990727733,-2.587445969036775,0.5836193718591131,3.3841225390611873,-0.39543768485216774,0.5431071134655059,-1.9091419268644891,0.8022308379987254,-0.5552366526182059,2.621764574634278,-0.41571672872612137,-0.8144357498155793,-1.4791523382074878,-1.6869376144687829,-0.3747938763135654,-0.4354537237967992,-2.3984834496135385,0.7078857048482907,-0.2534323198219826,-0.2073377369053411,0.10079706648747333,1.7945021550928568,-1.278102631295027,-0.05016450436799826,2.0273694776165376,0.8353060626076303,2.016638721869879,1.4899781245069683,-1.3526795910566392,-0.37158498545669705,1.679900635407484,-2.125619746667259,1.8283904257515864,-0.029856935170055155,0.9022077283661033,0.06403404348973456,0.14579949905145156,1.026196341658109,1.2312037434890148,-2.97433773989378,-0.9186738793367288,-0.07380694966970025,1.5569136086385538,-0.9859926408199937,0.07256255195728056,2.4520501435397044,1.5882074545691567,-0.6530682112677937,-0.8831738401012625,0.7364538825389993,1.7041123197334873,-0.5148169287878342,4.842649324949867,1.7307575973537446,-1.0376119277587896,-1.0775302169120746,0.10014855209865445,-0.10005546956369792,-0.7819565445516466,-0.7739828320612974,-1.2445796349648535,1.495024117066029,-0.8795061979034077,-0.8442030369601656,-1.0806930500097698,0.34320394361938444,1.8446730812901446,1.532209301044352,-0.806646157095009,-0.6174417691457631,-1.1590393140479234,1.3452993481200672,0.31213835440073423,-0.9566561744934414,-0.6663073479709157,1.4738211561871575,0.3532615216157169,-2.1851852489955332,0.2053062165287491,-0.8394614688466928,0.5244364070826916,2.210578178972498,-1.2452638398579974,-0.8420989735184378,-1.8802893874361548,-0.9677954998499386,0.10245460777510787,-1.2990048511536416,-0.765783869745821,-1.028281128152902,-0.7505001613424376,2.2150795602030033,0.9099699701890349,-1.2830617166758813,1.8366485317458228,-1.4074025465484439,-2.5122009462746893,-1.3218888419428152,-0.7162664710515798,0.21742463787737276,-1.3859946617268637,0.6774029946003782,-2.102228696316045,0.025769942891203667,0.8957461390992767,-0.9558121271606769,-1.2140292644191093,-0.18433944851457798,1.2585387793838,-0.9047045359202982,0.10927525924080099,0.09586194026565546,-0.29950328616660693,1.5171249330243817,0.8849115292343132,-1.3828334981454742,-0.30690805916051705,-0.5266752510500928,-0.3983874412765545,0.6086391125142605,-1.4110283595538258,0.5735980107774821,-0.22667682558884145,2.351243501409698,0.9906185030409694,0.7891528367017119,-1.0880993024318824,1.067413491094339,-1.319429616772285,0.6650163527024672,0.06769641388360717,1.2320105442552958,1.985368601027477,0.3730079562110296,-0.13479174965176366,0.1481452005351849,-0.9295334920593391,-0.9852335842853273,0.22040615631598823,0.9391561206955885,-0.6892321932890422,0.17574515569989582,-0.6958156635862848,1.7822041189191542,2.945141488372031,-1.047698975580514,-0.8306911966720496,0.8990445384773512,-1.063481385598332,0.5881182310795228,-0.6724611602335423,-0.6573677629693732,1.4313452673952312,1.5918746566834452,1.4247063340863535,-1.3408667344898406,0.542751384182771,-0.12666767277484037,2.8499267918903266,1.8850518691793523,-0.5175953327995952,1.2493436482578766,1.4904103602386232,-1.3570774616822614,1.6038321869505017,0.5633156843012144,1.7705557740179574,0.8789261099614329,1.744103909937178,-0.13814430429344923,-2.18627705235921,-1.398318678800045,0.6456723606576057,1.7142969824651195,-2.0966251449453233,-0.35847623486929275,-1.4224503454823285,-0.47789962202814146,-0.23050529834289546,0.5689324536011191,3.84165302882458,0.8621969059010377,-0.897066285318157,-0.7378358161522715,2.3147540954733823,1.345753304119762,-0.2878994270210075,-1.4086679299484577,-0.029856935170055155,1.7385802478988877,-0.9947652942242418,0.6314149251562504,0.012609153341717257,0.9612118556339405,-1.662108487085898,-3.5870403812445297,-1.2611879925711296,-1.544325655869844,-1.2064092989491333,-1.411363680487453,0.31671497317927455,-1.3495839870298034,-1.3254971450881177,-0.45869432872391935,-0.9896741280356895,0.20605534211345167,0.9720118124133629,1.479502548549398,0.9812582652171894,0.10204278144194068,1.8680154676563487,0.1738836118917987,1.5948554285968548,2.1764202752980935,-0.7983436118435282,0.24865155662285718,1.0579231130481592,-0.9549571432937917,-0.020008176500636264,0.14582494228106113,-0.3138962629149988,-1.3585737239547413,-0.704274642600025,5.798826698296154,-3.1519969943338464,-0.9392673072124782,-2.746900998974172,-1.022802411315555,-0.24459726510474059,-1.731644931276461,-0.4749930189899206,1.6890410027767768,0.46676972968190317,-1.4366980805438088,1.2387043503104473,-0.2040554369285829],\"xaxis\":\"x\",\"y\":[0.6467134956031422,0.39197379649592456,-0.059833787208733405,0.2972075524854051,0.18788358778765632,1.497585587772812,0.18346323145856147,0.9322486440373849,-1.5803233693079468,1.0238954767290542,0.0011594678931208327,0.6256243908477604,-1.995249754589713,2.678147009939153,1.0643218628796347,0.7076460814014247,-0.1161070733861728,0.6490509738085851,-0.07692818831168648,0.3596822082866838,-0.9865689246544791,-1.3055199116072977,0.9118437833655905,0.12843817612718725,-0.7077400264108269,1.2956029983627428,-2.2584324700032927,0.550882129512444,-0.44891463761138156,0.3565335326216505,0.9148320658782918,-2.820638677204475,-1.2711643218560542,-0.6761129861175419,0.2938810631548932,0.45686134048740984,0.146402273779822,-0.35714121309792035,-1.7789935582428973,0.37816903248905553,0.37362852901846944,0.04721115821764592,-0.8494593626910588,-0.927337055028029,-1.5917948994834352,1.198684582627662,-1.4037339935394797,-2.662470805618374,-1.3839796409348666,-1.2397950376517228,-1.718263745659344,-2.4939480170884076,1.5306764727087665,0.11168416785704587,0.8858278127223478,0.2916746210509203,1.1593957602326224,0.8377078545797052,-1.1053537735761765,1.0402684720573434,-2.6606596973142698,-1.7595570290427833,1.0610775292417691,0.5780080713660118,-2.8216787722965098,-0.7632632128714093,0.4464226210359031,0.15378206624131943,-1.0569233449855164,0.1888251484710813,0.2509176778001658,0.1013276208784056,-0.5971490501938664,-1.439195422194893,4.626546248825027,-0.7396335926109916,1.0679274284317377,0.8276908895342018,0.41181666587041765,-0.013124225009719099,-0.26316501957393706,-1.5735537234499202,0.1098273435366955,0.09530662003082875,0.24696802121225167,-1.326522703596184,-0.5082030690542482,-1.1457532160581885,0.04746280314653676,0.48683940358428845,-0.13755139918760917,-0.1960485375746341,0.9000106535465756,0.26265217039726446,0.10928789072662543,0.5636929569810868,0.566029950622758,0.8135151460913101,1.0633485668663236,0.6620141264657862,0.67283776216372,0.729636870986581,0.6741140021386,0.39596934481848317,0.46774464887635736,0.6151084512117654,0.47889001017795785,0.2041129863783653,-0.8655136469779493,-1.1004047115380076,0.04890834210848449,-1.5604751225317,0.39499866715051063,-0.6659532555286128,0.9970833292735142,1.013984199266443,0.6268194111457606,0.6258988882498788,-0.5706583394360366,0.08880125199417381,0.8484574559781176,1.7531040554525554,-1.113586073708447,0.5298166959667105,0.3655245726259089,0.525655563035007,0.34967434796584707,0.49498685622244637,0.026599442198723962,1.1114560099383421,0.2854823717871986,-0.808721500426333,0.5354000516016904,-2.925989774122436,-1.765202624718249,0.7528967099671618,0.18103489884974738,0.7828168353623353,1.3336114392729448,0.42364239569060896,-0.036831727112296334,0.3348229098001259,0.5911696887066051,0.4248016981329686,-1.2341181783635544,-0.24657831889838464,1.0108084741769994,1.2221487223655414,-1.7305776909921693,-2.361773290852978,1.0915548232319625,0.575028595227663,0.6987759105962487,0.8176705298873064,-0.42145499824855953,0.20465848139006693,0.5807490438202567,-1.194195123997516,-1.116372291436053,4.442688180478691,1.1545071836237895,0.027420823145558784,0.36428837925235363,0.498157727326488,-1.8906882985652427,-1.0882479321332186,0.6204737912819258,0.8505917209843489,-0.8053351796035775,0.7838717836310982,-1.3968046029820276,0.13646149520188805,0.5711451569695886,0.5016149229269831,0.6429787565152236,0.21799648670312302,0.4455452885952326,0.26637110386265356,-0.4867477982037032,-0.39605748478542663,0.16426422384565267,-1.2093363512342739,-1.1818789962666958,0.40987078317926223,-1.4042514294200328,-0.16336285098761055,-0.16336285098761055,0.6621180914371184,0.24261222224000603,-0.058409092224346426,0.27808177885242436,1.1112986909474256,0.6667006119770299,-2.7970658791810585,-1.5801950327540437,0.9314554306169607,-0.05481044803833547,0.7021717074118536,-2.807757691100097,1.0327833569666278,0.39111511465750676,0.45049131677802623,0.8601390213458728,-1.7988282549534667,0.331419029410036,-0.8532565605651528,-0.7309292615120586,0.5551508863412458,0.10227361363351326,-2.1853944872594515,-1.2892858559350224,-0.6424603278043336,-1.1343296910512004,-1.2869158394184923,0.36504962814846165,0.28486540699628976,0.9474175315319802,0.261775152518157,0.2550112714610969,-0.16291131408704265,0.11841781492558559,0.41782650672086985,-0.3244107064875781,-1.393636764382015,-0.8646121297750968,-0.7192550421027226,-2.0516917060162347,5.60450856683426,1.460848173082268,1.5622137652644292,0.5475074042706336,0.12778003377094507,0.38786934149907,-0.4598800464408053,0.1564983353304927,0.09521587986241,1.0542568039028686,0.42318797181501866,-0.5673723721648275,-1.160517843954106,-0.00907507720593776,0.24430126972503863,0.1434470242618312,1.146110460751648,0.2063220920088492,0.530369226163159,1.4411824659793586,0.4832893330969899,0.6803002058160234,0.5984114521061277,0.09628765559753216,0.3653637774670482,0.9756909657633791,0.23537604729382486,-0.7320670980374492,-1.39912679862283,0.5494793298655765,0.6432268443841661,0.7021350262643521,-0.6656890133756435,-0.37107805408420064,0.9056721333096378,0.31107754682112687,0.5131734066665254,-1.7087865088787635,1.0986097854604133,1.1790999581217574,-0.836915862888758,-0.9127415450540439,1.0372369263099124,1.221482579525208,1.1856409861821076,1.007926681850563,1.2285533812190292,1.2752413147141155,-1.957394133914243,0.6164971264248396,-0.21854400910311875,0.8015699055977034,-0.6181774256469114,-0.14152760570726092,-0.814921199169461,-1.9292430438194592,0.5575371939944789,1.1595535924969405,0.9564130280465798,1.6373176814047397,1.101291023335209,-0.17924514190697122,-0.5268006752083587,7.698070613798093,0.894346905678056,-0.35023626398698143,0.8557317515753275,-1.85016611958371,0.273713576127061,1.732239891490248,-1.0241432892922595,-0.6206028913515432,0.9640598804585693,0.477569936977434,0.27452266198707403,0.37559133835891306,-0.5811998264022652,-0.3508598920363127,-0.8675441003827228,0.3978185274828773,-1.893055160388847,-1.6533164239612503,0.34657665226562295,0.13989412224766049,-1.333423417270333,-1.132170763491128,-1.207699123804186,-2.2613756935219453,0.18010767785976617,-0.03930430935616264,-1.5399387978424992,-0.9070219894706789,-1.5128917230485712,-0.9861609687378305,-0.8828909468114212,-2.819980577493499,-1.4241641050715452,-2.6476403997692532,-1.569286403176355,-2.0858426871820237,0.6257081517512861,0.6692932541473817,-0.31627341061289577,0.47889001017795785,0.2041129863783653,-1.1918847068512124,-1.3453444272687667,-0.3888222625431967,-0.5844868220523395,-0.9224438107757036,2.4794285197812043,-5.65803563066298,3.930144156540796,-2.552867957026235,0.8778837068132852,0.59569807831988,0.42170494432034833,0.4728107039555225,1.0402514917820298,1.1047559154558344,1.0501093359715747,-1.1384022328973264,0.5446037724538022,0.48214203065295136,0.5841731889171087,-0.5236571709346818,-0.7733095432203871,-1.7560605798756237,0.29820447016274443,0.3830292287804657,-1.089062262756268,-0.737098859974194,-0.038329468389752507,-1.2266688315783674,-0.3160888453028736,-1.2257952455593022,-0.3664679896182005,0.8575237394881937,-0.6980726132193336,0.6075749336688507,-2.4242535210931786,-1.700738483878145,-1.2170833764996862,-3.9205965345957945,-0.7352295849345917,-0.7150283330599797,-0.4148399494700077,-0.5111858230183876,0.39615298524463755,0.6084718128696931,0.39459157492892294,-1.2527630357986972,-0.8408253842760045,1.405404912003381,-1.0917553482307238,-0.4865930824236921,-3.5033628751115637,0.5971161736746861,-0.47713721800618547,-0.987104898878255,0.90992030576916,-1.2948950807112098,-1.3122126827642004,-1.5217431682552247,2.6525098018305453,-0.0638248049401878,1.1090997570750243,1.0228572076020042,-0.8883053179554345,0.6240226106217583,0.470441185981917,-3.146778703295528,-1.313837210944067,-0.6508941710262222,-0.8231091455674168,0.9681287082698735,0.6093503659485476,-3.5593461860618034,-1.1342243095028108,-0.30518928935103706,0.9756909657633791,0.23537604729382486,0.5869206654913899,-0.5673142026854575,-1.2260398048437098,-0.7320670980374492,0.5843464714445321,-0.011602122626089485,1.5846291517690407,-0.1529541614843941,1.6065537949695914,1.972550427892856,1.5393267607611194,-1.273434143478419,-1.3534502460572064,0.06480956671615003,0.35893090799621213,0.6447371846880097,0.288734734459408,-0.4393770741110228,0.4527065554901375,0.20570119285690522,0.28038913704665663,1.6088554178388692,-1.1755914722710512,0.6003353666636931,0.29784308503387685,-0.06668998695706489,0.06856804260237566,-1.6411866523549759,0.42274491689014626,-1.4518946430362483,-1.6380675171302075,-1.797093854213809,-0.3256682437880567,0.856103608937773,0.1373453864034201,0.6234775142915183,-0.33680090749580416,1.1827473761949383,-2.0685089984432374,-2.1482245929157595,-2.2190727902185827,0.49864796992755017,0.6308505383584557,-1.6302590860729584,-0.4855238115149522,-1.6486831929320764,-1.1431500186477994,0.5101214648817802,0.9001129237020534,0.9817700713436086,-0.3296406994737327,1.5712358110672535,-1.291917804943588,0.5431659788346954,0.37149703026281056,0.49256093569696885,-0.39563133618366403,-0.7988855420652853,2.013173177177016,-2.362665530586895,0.7930804447273456,0.6023350937771526,-0.6032403485314818,-1.1075179746635142,-1.7159840515876328,0.8264576971859795,-0.9861609687378305,-2.063968518327585,0.2614405259429657,-0.0928922397195635,0.15761284205533999,-0.8647506470109163,-0.5455901261795757,-0.17135752771872942,-0.13254756008084936,-0.15573255107464526,0.734879637661,0.8092106124042051,0.5140525231162837,1.0967625532888763,0.8606529027977093,0.6906740183026434,0.6101356268661469,0.35956687605298493,-0.5538824694344983,-0.7240233374850623,0.7364163758936602,0.8593907215219801,-1.363267880718709,-2.9109377139416335,0.520746547170512,0.42116991887927024,0.5228164315447016,0.31831648596173306,-0.6339340931945846,0.3808214056030294,0.29218704114747196,0.35896712454603297,0.49109401777329675,1.3759172956801027,0.4794128815101408,6.60634076379428,-0.7789995846662028,-0.7006480151364162,-0.12140562183688929,0.6097647007051265,0.6103056532871236,1.0652032926160235,-0.31880468794764444,-1.3161896415357481,-0.8174748240004049,-0.05993483991668807,-1.0984599713081546,-0.559182915661808],\"yaxis\":\"y\",\"type\":\"scatter\"},{\"customdata\":[[\"Acclaim Mixed-Mode HILIC-1\"],[\"Acclaim Mixed-Mode WCX-1\"],[\"Acclaim Phenyl-1\"],[\"Accucore 150-C18\"],[\"Accucore 150-C4\"],[\"Accucore Phenyl-Hexyl\"],[\"Accucore Phenyl-X\"],[\"Accucore RP-MS\"],[\"ACE 5 C18-300\"],[\"ACE 5 C18-AR\"],[\"ACE 5 C18-HL\"],[\"Ace 5 C18-PFP\"],[\"ACE 5 C4-300\"],[\"ACE 5 C8-300\"],[\"ACE 5 CN-300\"],[\"ACE Phenyl-300\"],[\"Acquity UPLC BEH Shield RP-18\"],[\"Adamas C18-AQ\"],[\"Adamas C18-Classic\"],[\"Adamas C18-Extreme\"],[\"Adamas C18-Select\"],[\"Adamas C18-X-Bond\"],[\"Aeris PEPTIDE XB-C18\"],[\"Aeris WIDEPORE XB-C18\"],[\"Aeris WIDEPORE XB-C4\"],[\"Aeris WIDEPORE XB-C8\"],[\"Alltima C18-LL\"],[\"Alltima C18-WP\"],[\"Ascentis Express ES-CN\"],[\"Ascentis Express Peptide ES-C18\"],[\"Ascentis Express Phenyl-Hexyl\"],[\"Ascentis Express RP-Amide\"],[\"Ascentis RP-Amide\"],[\"Athena C18-WP\"],[\"BAS MF-8954\"],[\"Betasil Phenyl-Hexyl\"],[\"Cadenza 5CL-C18\"],[\"Cadenza CD-C18\"],[\"Chromolith HighResolution RP-18e\"],[\"Chromolith Performance RP-8e\"],[\"COSMOSIL 5-C18-PAQ\"],[\"COSMOSIL C18-AR-II\"],[\"COSMOSIL C18-MS-II\"],[\"Curosil-PFP\"],[\"Develosil C30-UG-5\"],[\"Develosil ODS-HG-5\"],[\"Develosil ODS-MG-5\"],[\"Develosil ODS-UG-5\"],[\"EC Nucleosil 100-5 Protect 1\"],[\"Excel C18-Amide\"],[\"Excel CN-ES\"],[\"Gemini C6-Phenyl 110A\"],[\"Gemini-NX C18\"],[\"GROM-SIL 120 Octyl-6 MB\"],[\"GROM-SIL 120 ODS-3 CP\"],[\"Grom-Sil 120 ODS-4 HE\"],[\"GROM-SIL 120 ODS-5 ST\"],[\"Halo 5 ES-CN\"],[\"Halo 5 Phenyl-Hexyl\"],[\"Halo AQ-C18\"],[\"Halo ES-CN\"],[\"Halo LPH-C18\"],[\"HALO Peptide ES-C18\"],[\"Halo Phenyl-Hexyl\"],[\"Halo RP-Amide\"],[\"Hitachi LaChrom C18-PM\"],[\"Hypersil Beta Basic-18\"],[\"Hypersil Beta Basic-8\"],[\"Hypersil Bio Basic-18\"],[\"Hypersil Bio Basic-8\"],[\"Hypersil ODS-2\"],[\"Inertsil C8-3\"],[\"Inertsil C8-4\"],[\"Inertsil CN-3\"],[\"Inertsil ODS-2\"],[\"Inertsil ODS-3\"],[\"Inertsil ODS-4\"],[\"Inertsil ODS-EP\"],[\"Inertsil ODS-HL\"],[\"Inertsil ODS-P\"],[\"Inertsil ODS-SP\"],[\"Inertsil Ph-3\"],[\"InertSustain AQ-C18\"],[\"Kinetex Phenyl-Hexyl\"],[\"Kinetex XB-C18\"],[\"LaChrom C18-AQ\"],[\"LaChrom C18-NE\"],[\"LiChrosorb RP-18\"],[\"LiChrospher 100 RP-18\"],[\"LiChrospher 60 RP-Select B\"],[\"Luna Phenyl-Hexyl\"],[\"Microsorb 100-5 C8\"],[\"Microsorb 100-5 Phenyl\"],[\"Microsorb 300-5 C4\"],[\"Microsorb-MV 100 CN\"],[\"Nova-Pak C18\"],[\"Nova-Pak C8\"],[\"Nova-Pak CN HP 60A\"],[\"Nova-Pak Phenyl\"],[\"Nucelosil 100-5-C8 HD\"],[\"Nucleodur 100-5 C18\"],[\"Nucleodur 100-5 C8\"],[\"Orosil C18-ER\"],[\"Orosil C18-HC\"],[\"Peerless Basic C-18\"],[\"Peerless C-18\"],[\"Polaris Amide-C18\"],[\"Polaris C18-A\"],[\"Polaris C18-Ether\"],[\"Polaris C8-A\"],[\"Polaris C8-Ether\"],[\"Poroshell 120 Bonus-RP\"],[\"Poroshell 120 EC-C18\"],[\"Poroshell 120 EC-C8\"],[\"Poroshell 120 EC-CN\"],[\"Poroshell 120 Phenyl-Hexyl\"],[\"Poroshell 120 SB-AQ\"],[\"Poroshell 120 SB-C18\"],[\"Poroshell 120 SB-C8\"],[\"Precision C18-PE\"],[\"Precision C8-PE\"],[\"Primesil C18-2\"],[\"Primesil ODS-P\"],[\"Prodigy Phenyl-3\"],[\"ProntoSIL 120 C18 ace-EPS\"],[\"ProntoSIL 120 C18-AQ\"],[\"ProntoSIL 120 C8 ace-EPS\"],[\"ProntoSIL 120-3-C30\"],[\"ProntoSIL 200 C18 ace-EPS\"],[\"ProntoSIL 300 C18 ace-EPS\"],[\"ProntoSIL 300-5-C18 H\"],[\"Purospher RP-18\"],[\"Pursuit XRs C-18\"],[\"Pursuit XRs C-8\"],[\"Sepax Bio-C18\"],[\"Sepax HP-C18(2)\"],[\"SepaxBio-C4\"],[\"SepaxBio-C8\"],[\"SepaxBR-C18\"],[\"SepaxGP-C18\"],[\"SepaxGP-C4\"],[\"SepaxGP-C8\"],[\"SepaxGP-Phenyl\"],[\"SepaxHP-C18\"],[\"SepaxHP-Cyano\"],[\"Shim-pack Arata C18\"],[\"Shim-pack Velox Biphenyl\"],[\"Shim-pack Velox C18\"],[\"Shim-pack Velox PFPP\"],[\"Shim-pack Velox SP-C18\"],[\"Shim-pack XR-C8\"],[\"Shim-pack XR-ODS\"],[\"Shim-pack XR-ODS II\"],[\"Shim-pack XR-Phenyl\"],[\"Shodex C18-4D\"],[\"Spherisorb ODS-1\"],[\"Spherisorb ODS-2\"],[\"Spursil C18-EP\"],[\"Sunniest RP-AQUA\"],[\"Sunshell RP-AQUA\"],[\"Supelcosil LC-18\"],[\"Supelcosil LC-18-DB\"],[\"Supelcosil LC-8\"],[\"Supelcosil LC-8-DB\"],[\"Supelcosil LC-PAH\"],[\"Superspher 100 RP-18e\"],[\"Synergi Fusion-RP\"],[\"Synergi Hydro-RP\"],[\"Synergi Max-RP\"],[\"Synergi Polar-RP\"],[\"TSK-gel ODS-140HTP\"],[\"TSKgel CN-80Ts\"],[\"TSKgel Octyl-80Ts\"],[\"TSKgel ODS-100S\"],[\"TSKgel ODS-100V\"],[\"TSKgel ODS-100Z\"],[\"TSKgel ODS-120A\"],[\"TSKgel ODS-120T\"],[\"TSKgel ODS-80T\"],[\"TSKgel ODS-80Ts\"],[\"TSKgel ODS-80Ts QA\"],[\"TSKgel Super-Octyl\"],[\"TSKgel Super-ODS\"],[\"TSKgel Super-Phenyl\"],[\"Ultimate AQ-C18\"],[\"Ultimate LP-C18\"],[\"Ultimate Polar-RP\"],[\"Ultimate XB-C18\"],[\"Ultimate XB-C8\"],[\"Ultimate XB-CN\"],[\"Ultimate XB-Phenyl\"],[\"Ultimate XS-C18\"],[\"Ultisil AQ-C18\"],[\"Ultisil LP-C18\"],[\"Ultisil Polar-RP\"],[\"Ultisil XB-C18\"],[\"Ultisil XB-C8\"],[\"Ultisil XB-Phenyl\"],[\"Unison UK-C18\"],[\"VDSpher PUR 100 C18-E\"],[\"VDSpher PUR 100 C18-H\"],[\"VDSpher PUR 100 C18-M\"],[\"VDSpher PUR 100 C18-M-SE\"],[\"Venusil XBP Phenyl-Hexyl\"],[\"Venusil XBP Polar-Phenyl\"],[\"VisionHT C18-P\"],[\"XSelect CSH Fluoro-Phenyl\"],[\"XSelect CSH Phenyl-Hexyl\"],[\"YMC-Pack ODS-AQ\"],[\"YMC-Pack Pro C18\"],[\"YMC-Pack Pro C18 RS\"],[\"YMC-Pack Pro C8\"],[\"YMC-Triart Bio C18\"],[\"YMC-Triart C18\"],[\"YMC-Triart C18 ExRS\"],[\"YMC-Triart C8\"],[\"YMC-Triart PFP\"],[\"YMC-Triart Phenyl\"],[\"ZirChrom-EZ\"],[\"ZirChrom-MS\"],[\"ZirChrom-PBD\"],[\"ZirChrom-PS\"],[\"ZodiacSil 120-5 C18 AQ\"],[\"ZodiacSil 120-5-C18 ace EPS\"],[\"ZodiacSil 120-5-C18 AQ Plus\"],[\"ZodiacSil 120-5-C18H\"],[\"ZodiacSil 120-5-C18SH\"],[\"ZodiacSil 200-5-C18 ace EPS\"],[\"ZodiacSil 200-5-C18AQ\"],[\"ZodiacSil 200-5-C18H\"],[\"ZodiacSil 300-5-C18ace EPS\"],[\"ZodiacSil 300-5-C18H\"],[\"ZodiacSil 60-5-C18H\"],[\"Zorbax Eclipse XDB-C18\"],[\"Zorbax Eclipse XDB-C8\"],[\"Zorbax Eclipse XDB-CN\"],[\"Zorbax Rx-18\"],[\"Zorbax Rx-C8\"],[\"Zorbax SB-AQ\"],[\"Zorbax SB-CN\"],[\"Zorbax SB-Phenyl\"],[\"Zorbax XDB-Phenyl\"]],\"hovertemplate\":\"Search result=True\\u003cbr\\u003ePC1=%{x}\\u003cbr\\u003ePC2=%{y}\\u003cbr\\u003eName=%{customdata[0]}\\u003cextra\\u003e\\u003c\\u002fextra\\u003e\",\"legendgroup\":\"True\",\"marker\":{\"color\":\"#EF553B\",\"symbol\":\"circle\"},\"mode\":\"markers\",\"name\":\"True\",\"orientation\":\"v\",\"showlegend\":true,\"x\":[1.5712398133536378,3.5386259222069874,2.1936222780490136,-1.3810525538927712,0.5865208078488032,0.39264771200719345,1.7859757911030796,-1.096767702021365,-1.2082090167768442,-0.037381791105006786,-1.28971646941258,-0.4387573273322694,0.43102652676764763,0.026673807973112095,1.4756452888014002,1.3298650491647726,0.06227776398740983,0.27593356109610057,-0.7135869207146818,-1.3736486617231476,-1.4477385517309351,-1.493464275350512,-0.6194638072130663,-0.03886643326496527,0.774692677740266,0.638180761631054,-0.04838786009481388,-0.46765944357866157,1.7965226032393888,-1.1233453403665625,0.5009653872464432,1.4181340611841593,1.7027966033215998,-0.2383105357640264,-1.6207089047503886,0.8989293315090245,-1.4902284752078998,-1.6122540083948826,-1.2356102024560318,-0.3244850143901788,0.9064841198895665,-1.476313069896411,-0.9514980367105946,0.8163175190234719,-0.393522191988364,-0.7193276656934159,-0.36461321114668344,-0.8389522316484989,4.917876386651837,1.6727504003886289,0.5459357621661033,0.527104973529702,-0.3951206489863838,-0.44228384760682554,-1.3309805123593677,-0.5000406833490649,-1.4294174836509077,1.9538678276265489,0.6078667806268351,-1.3658057416851894,1.6689940047180196,-1.511798934327289,-0.8722553949971413,0.5593716544645913,1.1915842640371752,-1.823719679546738,-0.9955439648418125,0.06181185836349932,-0.9266256313369894,-0.009187017152940109,-1.4457409225031386,0.2992499814943058,1.038535236212328,4.784394745422432,-0.9662260819410885,-0.5142211130165528,-0.2672653136422342,3.2649833382498437,-1.5100981747703357,-2.3699019020485363,-0.008775887005920188,1.7409041478041154,-0.05973600187512674,0.6809783892012514,-0.5327800747481305,-0.014780434383446658,-1.5939628390037248,-1.5380421393055974,-1.8488771833661062,0.15594711572561698,0.8019640662799018,-0.4670832937375437,1.3936537043800672,0.8824673591183131,3.796010384502685,-1.7609100814844418,-0.7555750601672213,1.1383779297440209,0.8325214949591896,-0.08855404862287242,-1.031678401830193,0.24005530917820284,-1.1477604317544825,-1.5184805439359994,-0.4880037382236632,-0.9618188367660464,2.594694571502744,-0.04442721590543552,-0.4893923116118853,2.1328479587794917,0.8791818959523924,2.750244960578193,-0.930630130364787,-0.1080312685857765,2.134914375667119,1.027904496771567,1.471988591637942,-1.013039965253911,0.3285607043763977,-0.661438108113123,0.0641365792645638,-0.9389363229313135,1.2049121843527213,1.2777163154142777,2.146483161306615,-0.7958414697290817,3.583231902208019,-1.629656992650568,1.9358534525351607,2.0048647333471656,-0.6832027173598042,0.3727652395971583,-1.1295584488694401,-0.10950908132683203,-0.4112257308278367,-0.25306908414683993,0.8136241908304033,0.4196965762102825,-1.0359211038011216,-0.9375888767121101,0.6350248164750142,-0.08255721505553194,1.5483577410291278,-0.5578561568263657,2.114820950974268,2.193760661832957,1.5340199516237454,-1.984217614988446,-0.13966924461647784,-1.5408769535081153,-0.11852296414629951,-0.9750499469827196,-1.724581347285978,0.9618275039100074,-1.1441093748057842,-0.3197385753584515,-1.138837782039298,2.056706825490175,-0.42546695406248486,0.08712797920218623,-1.4824348958486575,-0.6406814001277479,-0.5564446612641609,0.33159719392462295,-1.1960797379223205,-1.4074677393806583,-0.23611116743222194,-1.5248002267965735,-0.9577789378036046,1.281746499556613,-0.9144713241178745,2.7321598406547807,0.16257463167002542,-1.3021398840728549,0.03454161499440978,-0.95172728946828,-1.2442504263054412,-1.4205134288771535,-1.159721794016548,-0.5636848778696112,-0.41138536995095093,-0.24180740599204034,-1.1438871465557918,1.1276805022684402,-0.17308051567004226,-0.797346007293287,1.6927430602938793,-1.0327321690065916,-0.1924892096347158,1.9236916515571882,1.227384810608528,-2.045855059767699,-0.11954722519984926,-0.7882798301626132,1.6909086601042012,-1.0797797899018973,-0.14169904747585818,1.2796330010829187,-1.0082739597045298,-1.1351336388237,0.32244823470288114,-1.4584306113554428,-1.4183001627933263,0.6346773236915765,1.696789731584848,0.039783993104951905,1.8833979024453074,1.849527738855203,-0.39303920582632795,-0.6943360575213815,-1.563092499288581,-0.000912210182358101,-0.6184218861992977,-0.3623990396775861,-2.187069000535769,0.2543718719957107,0.7417779825042227,1.0107929068697388,-0.9538803374354486,2.220582427720944,-3.610142421319446,1.5102212398143338,-0.7958414697290817,2.146483161306615,-0.8795061979034077,-0.8442030369601656,-1.0806930500097698,1.9358534525351607,-0.806646157095009,-0.6174417691457631,2.0048647333471656,-0.6900722499658185,-2.1851852489955332,-1.348303727164092,-0.3305568279638594,1.679960614374551,-2.1741651878425086,-0.1622063317887725,1.3054120816661545,1.8568570411764875,0.9858733699654406,1.1819834220499774],\"xaxis\":\"x\",\"y\":[-0.8370810229220186,-0.33776645137247296,-0.953417640220119,0.8239244240627425,0.10768717713028773,-0.20089943502623459,0.005775922743616772,0.7714829685249813,0.4125973013353646,-0.14361496795062564,1.1371519934362506,0.06998955243496191,-0.05578161621000851,0.15659394561221504,-1.1094567815173701,-1.1407727290730545,1.0020301360607324,-0.16908142387919478,0.36826010856215924,0.7531118225112087,-0.5721125372781913,0.6828548136268451,0.3716576836202065,0.3462970041944176,-0.05238436474323368,0.20505545932124572,1.2602974925700967,-0.06694153065372195,-0.9424288339821749,-0.3512100470999932,-0.5973401753957823,2.3541659607988827,2.8702470134541005,0.3719418422641561,-1.5144800349596386,-0.2966566883131902,0.23162826650483898,0.7133042757580714,0.4852009236937755,0.09284247654156973,0.8680123506062695,0.41755125236023766,1.2180827336460953,-0.6746541635699058,0.17589122703335694,0.5083497322120156,0.3147052028380387,0.6472680621902941,5.518814114380786,1.4408072292984218,0.47053878319659,1.2297160113575003,0.9236944649313675,0.41860950945171127,0.5449028506405501,0.3444146693931612,0.38835371676409397,-1.0209357763650917,-0.6823029111079529,-0.1966890699636752,-1.2021446405436793,-0.11180344539323472,-0.5082030690542482,-0.7130788879307626,2.4757176238097567,1.6382976706235002,0.7041444540565919,0.43070793806886193,0.45724062133803967,0.2507979813796052,0.20768656550583237,0.8158789886120706,-0.016184293014214726,3.9088999955446875,1.1535618717081964,1.3861715808066206,0.27276167641830534,2.6735371184356636,0.5919698818287175,-0.4316968222128174,0.22132475957529898,-1.9393264266496772,0.11295834542702417,-0.5773954993384975,0.5888186918574914,0.7211106271574987,-0.07464485236654213,-1.5713159705773887,-0.6545445928985675,-0.6005286410674473,-0.7584948527655483,0.7129284610272796,-1.4878102566806193,-0.2219786450779436,-2.743536880216597,-0.16686905424944184,-0.5599059092156344,-3.139353396680866,-2.238214223711127,0.43581434780755435,0.04532985470398164,-0.2039435732170952,-0.457459303058258,0.6585171602157388,0.7061456108710116,0.3112477301222984,4.824585610135996,0.5763756679686837,0.2979810183673108,0.6169596563756133,0.026753768742470558,1.5003135945197097,0.5497952030556348,0.5098798475241693,-0.8204435610678327,-0.5858956423905564,-1.1190067538863782,-0.19936918973390308,-0.7976929186719075,0.4715845777401768,0.0878862005533851,0.41165831447198853,1.8625351444612974,-2.4524340835319105,2.0108234069904785,0.4023307815161874,1.2680351972187522,-1.8635165940207603,1.3282330839963306,1.4249418001312468,0.1751286589138542,4.707891630134498,0.9360746408317123,0.8819058322821057,0.0519484934913674,0.5632161153558769,-0.037367420378724946,-0.02462434917558078,0.9168634390621445,0.5990400456302917,0.09025524967344976,0.48552084312200217,-1.143195688131371,0.25653054958580995,-0.7044176542982094,2.2396032140404114,-1.6342092324579445,0.9542694342826327,-2.0691298626273023,-0.23186576020942878,0.6321168712380103,0.9980190734611948,1.0093461035266653,-0.5415537072343632,0.9630206666290042,-3.042998137796623,-1.3010675244233392,3.7276836143885377,0.17688567591741594,0.03251539901742092,-1.4464839753017158,0.03809319030455381,-1.297263486652752,-0.13988720145062022,-0.8824296081655806,0.3576533601807319,0.34640985385835954,0.48103434453426486,0.8767747864699038,-1.3717546425747311,0.956640239385655,0.08435383720559488,0.30679200068969753,1.1851799313060039,0.20556820626255543,0.7897387156349065,-0.4238037797084793,0.4777461579987036,-0.11567578700960489,0.48814399510549666,0.2355175628772056,0.5123229226375203,0.6549115442609068,-1.1738439438272648,0.06067145301583578,-0.2222319814447734,1.6457593190738642,0.5837696809345049,0.33171718458321275,-1.187493238418451,-1.0770690606889521,-0.14715420549563601,0.050020654368066124,-0.17797538572766944,1.6455978691534476,0.5890582954849625,0.3673195179008671,-1.0557016394479097,0.2614076494147767,0.536265271082837,-0.40817617758915825,-0.8206269054502503,1.0577672328411674,-1.8682011308438187,-2.1651576833954778,-2.652402355678362,-1.0866683868624882,0.2234243162681343,0.3618453946010896,0.9619143358502018,1.3699937839870535,1.0154828468103967,0.1933430712957415,0.27338528559423636,1.3856554099120644,0.39154732522955016,-2.5989736831379524,-0.42169641506859035,-0.36812952023173934,-0.532075306648487,-0.24910903542894747,-4.273790070432182,0.4023307815161874,2.0108234069904785,0.5446037724538022,0.48214203065295136,0.5841731889171087,1.3282330839963306,0.29820447016274443,0.3830292287804657,1.4249418001312468,0.16215687659970812,0.8575237394881937,0.7784541204223989,0.7364498445848531,-0.9340723563806002,0.6133217273335696,-0.5473704357900216,-1.0519433887210348,-0.8899329680066957,-1.6846697733386828,-1.1408580956909757],\"yaxis\":\"y\",\"type\":\"scatter\"}],                        {\"template\":{\"data\":{\"histogram2dcontour\":[{\"type\":\"histogram2dcontour\",\"colorbar\":{\"outlinewidth\":0,\"ticks\":\"\"},\"colorscale\":[[0.0,\"#0d0887\"],[0.1111111111111111,\"#46039f\"],[0.2222222222222222,\"#7201a8\"],[0.3333333333333333,\"#9c179e\"],[0.4444444444444444,\"#bd3786\"],[0.5555555555555556,\"#d8576b\"],[0.6666666666666666,\"#ed7953\"],[0.7777777777777778,\"#fb9f3a\"],[0.8888888888888888,\"#fdca26\"],[1.0,\"#f0f921\"]]}],\"choropleth\":[{\"type\":\"choropleth\",\"colorbar\":{\"outlinewidth\":0,\"ticks\":\"\"}}],\"histogram2d\":[{\"type\":\"histogram2d\",\"colorbar\":{\"outlinewidth\":0,\"ticks\":\"\"},\"colorscale\":[[0.0,\"#0d0887\"],[0.1111111111111111,\"#46039f\"],[0.2222222222222222,\"#7201a8\"],[0.3333333333333333,\"#9c179e\"],[0.4444444444444444,\"#bd3786\"],[0.5555555555555556,\"#d8576b\"],[0.6666666666666666,\"#ed7953\"],[0.7777777777777778,\"#fb9f3a\"],[0.8888888888888888,\"#fdca26\"],[1.0,\"#f0f921\"]]}],\"heatmap\":[{\"type\":\"heatmap\",\"colorbar\":{\"outlinewidth\":0,\"ticks\":\"\"},\"colorscale\":[[0.0,\"#0d0887\"],[0.1111111111111111,\"#46039f\"],[0.2222222222222222,\"#7201a8\"],[0.3333333333333333,\"#9c179e\"],[0.4444444444444444,\"#bd3786\"],[0.5555555555555556,\"#d8576b\"],[0.6666666666666666,\"#ed7953\"],[0.7777777777777778,\"#fb9f3a\"],[0.8888888888888888,\"#fdca26\"],[1.0,\"#f0f921\"]]}],\"heatmapgl\":[{\"type\":\"heatmapgl\",\"colorbar\":{\"outlinewidth\":0,\"ticks\":\"\"},\"colorscale\":[[0.0,\"#0d0887\"],[0.1111111111111111,\"#46039f\"],[0.2222222222222222,\"#7201a8\"],[0.3333333333333333,\"#9c179e\"],[0.4444444444444444,\"#bd3786\"],[0.5555555555555556,\"#d8576b\"],[0.6666666666666666,\"#ed7953\"],[0.7777777777777778,\"#fb9f3a\"],[0.8888888888888888,\"#fdca26\"],[1.0,\"#f0f921\"]]}],\"contourcarpet\":[{\"type\":\"contourcarpet\",\"colorbar\":{\"outlinewidth\":0,\"ticks\":\"\"}}],\"contour\":[{\"type\":\"contour\",\"colorbar\":{\"outlinewidth\":0,\"ticks\":\"\"},\"colorscale\":[[0.0,\"#0d0887\"],[0.1111111111111111,\"#46039f\"],[0.2222222222222222,\"#7201a8\"],[0.3333333333333333,\"#9c179e\"],[0.4444444444444444,\"#bd3786\"],[0.5555555555555556,\"#d8576b\"],[0.6666666666666666,\"#ed7953\"],[0.7777777777777778,\"#fb9f3a\"],[0.8888888888888888,\"#fdca26\"],[1.0,\"#f0f921\"]]}],\"surface\":[{\"type\":\"surface\",\"colorbar\":{\"outlinewidth\":0,\"ticks\":\"\"},\"colorscale\":[[0.0,\"#0d0887\"],[0.1111111111111111,\"#46039f\"],[0.2222222222222222,\"#7201a8\"],[0.3333333333333333,\"#9c179e\"],[0.4444444444444444,\"#bd3786\"],[0.5555555555555556,\"#d8576b\"],[0.6666666666666666,\"#ed7953\"],[0.7777777777777778,\"#fb9f3a\"],[0.8888888888888888,\"#fdca26\"],[1.0,\"#f0f921\"]]}],\"mesh3d\":[{\"type\":\"mesh3d\",\"colorbar\":{\"outlinewidth\":0,\"ticks\":\"\"}}],\"scatter\":[{\"fillpattern\":{\"fillmode\":\"overlay\",\"size\":10,\"solidity\":0.2},\"type\":\"scatter\"}],\"parcoords\":[{\"type\":\"parcoords\",\"line\":{\"colorbar\":{\"outlinewidth\":0,\"ticks\":\"\"}}}],\"scatterpolargl\":[{\"type\":\"scatterpolargl\",\"marker\":{\"colorbar\":{\"outlinewidth\":0,\"ticks\":\"\"}}}],\"bar\":[{\"error_x\":{\"color\":\"#2a3f5f\"},\"error_y\":{\"color\":\"#2a3f5f\"},\"marker\":{\"line\":{\"color\":\"#E5ECF6\",\"width\":0.5},\"pattern\":{\"fillmode\":\"overlay\",\"size\":10,\"solidity\":0.2}},\"type\":\"bar\"}],\"scattergeo\":[{\"type\":\"scattergeo\",\"marker\":{\"colorbar\":{\"outlinewidth\":0,\"ticks\":\"\"}}}],\"scatterpolar\":[{\"type\":\"scatterpolar\",\"marker\":{\"colorbar\":{\"outlinewidth\":0,\"ticks\":\"\"}}}],\"histogram\":[{\"marker\":{\"pattern\":{\"fillmode\":\"overlay\",\"size\":10,\"solidity\":0.2}},\"type\":\"histogram\"}],\"scattergl\":[{\"type\":\"scattergl\",\"marker\":{\"colorbar\":{\"outlinewidth\":0,\"ticks\":\"\"}}}],\"scatter3d\":[{\"type\":\"scatter3d\",\"line\":{\"colorbar\":{\"outlinewidth\":0,\"ticks\":\"\"}},\"marker\":{\"colorbar\":{\"outlinewidth\":0,\"ticks\":\"\"}}}],\"scattermapbox\":[{\"type\":\"scattermapbox\",\"marker\":{\"colorbar\":{\"outlinewidth\":0,\"ticks\":\"\"}}}],\"scatterternary\":[{\"type\":\"scatterternary\",\"marker\":{\"colorbar\":{\"outlinewidth\":0,\"ticks\":\"\"}}}],\"scattercarpet\":[{\"type\":\"scattercarpet\",\"marker\":{\"colorbar\":{\"outlinewidth\":0,\"ticks\":\"\"}}}],\"carpet\":[{\"aaxis\":{\"endlinecolor\":\"#2a3f5f\",\"gridcolor\":\"white\",\"linecolor\":\"white\",\"minorgridcolor\":\"white\",\"startlinecolor\":\"#2a3f5f\"},\"baxis\":{\"endlinecolor\":\"#2a3f5f\",\"gridcolor\":\"white\",\"linecolor\":\"white\",\"minorgridcolor\":\"white\",\"startlinecolor\":\"#2a3f5f\"},\"type\":\"carpet\"}],\"table\":[{\"cells\":{\"fill\":{\"color\":\"#EBF0F8\"},\"line\":{\"color\":\"white\"}},\"header\":{\"fill\":{\"color\":\"#C8D4E3\"},\"line\":{\"color\":\"white\"}},\"type\":\"table\"}],\"barpolar\":[{\"marker\":{\"line\":{\"color\":\"#E5ECF6\",\"width\":0.5},\"pattern\":{\"fillmode\":\"overlay\",\"size\":10,\"solidity\":0.2}},\"type\":\"barpolar\"}],\"pie\":[{\"automargin\":true,\"type\":\"pie\"}]},\"layout\":{\"autotypenumbers\":\"strict\",\"colorway\":[\"#636efa\",\"#EF553B\",\"#00cc96\",\"#ab63fa\",\"#FFA15A\",\"#19d3f3\",\"#FF6692\",\"#B6E880\",\"#FF97FF\",\"#FECB52\"],\"font\":{\"color\":\"#2a3f5f\"},\"hovermode\":\"closest\",\"hoverlabel\":{\"align\":\"left\"},\"paper_bgcolor\":\"white\",\"plot_bgcolor\":\"#E5ECF6\",\"polar\":{\"bgcolor\":\"#E5ECF6\",\"angularaxis\":{\"gridcolor\":\"white\",\"linecolor\":\"white\",\"ticks\":\"\"},\"radialaxis\":{\"gridcolor\":\"white\",\"linecolor\":\"white\",\"ticks\":\"\"}},\"ternary\":{\"bgcolor\":\"#E5ECF6\",\"aaxis\":{\"gridcolor\":\"white\",\"linecolor\":\"white\",\"ticks\":\"\"},\"baxis\":{\"gridcolor\":\"white\",\"linecolor\":\"white\",\"ticks\":\"\"},\"caxis\":{\"gridcolor\":\"white\",\"linecolor\":\"white\",\"ticks\":\"\"}},\"coloraxis\":{\"colorbar\":{\"outlinewidth\":0,\"ticks\":\"\"}},\"colorscale\":{\"sequential\":[[0.0,\"#0d0887\"],[0.1111111111111111,\"#46039f\"],[0.2222222222222222,\"#7201a8\"],[0.3333333333333333,\"#9c179e\"],[0.4444444444444444,\"#bd3786\"],[0.5555555555555556,\"#d8576b\"],[0.6666666666666666,\"#ed7953\"],[0.7777777777777778,\"#fb9f3a\"],[0.8888888888888888,\"#fdca26\"],[1.0,\"#f0f921\"]],\"sequentialminus\":[[0.0,\"#0d0887\"],[0.1111111111111111,\"#46039f\"],[0.2222222222222222,\"#7201a8\"],[0.3333333333333333,\"#9c179e\"],[0.4444444444444444,\"#bd3786\"],[0.5555555555555556,\"#d8576b\"],[0.6666666666666666,\"#ed7953\"],[0.7777777777777778,\"#fb9f3a\"],[0.8888888888888888,\"#fdca26\"],[1.0,\"#f0f921\"]],\"diverging\":[[0,\"#8e0152\"],[0.1,\"#c51b7d\"],[0.2,\"#de77ae\"],[0.3,\"#f1b6da\"],[0.4,\"#fde0ef\"],[0.5,\"#f7f7f7\"],[0.6,\"#e6f5d0\"],[0.7,\"#b8e186\"],[0.8,\"#7fbc41\"],[0.9,\"#4d9221\"],[1,\"#276419\"]]},\"xaxis\":{\"gridcolor\":\"white\",\"linecolor\":\"white\",\"ticks\":\"\",\"title\":{\"standoff\":15},\"zerolinecolor\":\"white\",\"automargin\":true,\"zerolinewidth\":2},\"yaxis\":{\"gridcolor\":\"white\",\"linecolor\":\"white\",\"ticks\":\"\",\"title\":{\"standoff\":15},\"zerolinecolor\":\"white\",\"automargin\":true,\"zerolinewidth\":2},\"scene\":{\"xaxis\":{\"backgroundcolor\":\"#E5ECF6\",\"gridcolor\":\"white\",\"linecolor\":\"white\",\"showbackground\":true,\"ticks\":\"\",\"zerolinecolor\":\"white\",\"gridwidth\":2},\"yaxis\":{\"backgroundcolor\":\"#E5ECF6\",\"gridcolor\":\"white\",\"linecolor\":\"white\",\"showbackground\":true,\"ticks\":\"\",\"zerolinecolor\":\"white\",\"gridwidth\":2},\"zaxis\":{\"backgroundcolor\":\"#E5ECF6\",\"gridcolor\":\"white\",\"linecolor\":\"white\",\"showbackground\":true,\"ticks\":\"\",\"zerolinecolor\":\"white\",\"gridwidth\":2}},\"shapedefaults\":{\"line\":{\"color\":\"#2a3f5f\"}},\"annotationdefaults\":{\"arrowcolor\":\"#2a3f5f\",\"arrowhead\":0,\"arrowwidth\":1},\"geo\":{\"bgcolor\":\"white\",\"landcolor\":\"#E5ECF6\",\"subunitcolor\":\"white\",\"showland\":true,\"showlakes\":true,\"lakecolor\":\"white\"},\"title\":{\"x\":0.05},\"mapbox\":{\"style\":\"light\"}}},\"xaxis\":{\"anchor\":\"y\",\"domain\":[0.0,1.0],\"title\":{\"text\":\"PC1\"}},\"yaxis\":{\"anchor\":\"x\",\"domain\":[0.0,1.0],\"title\":{\"text\":\"PC2\"}},\"legend\":{\"title\":{\"text\":\"Search result\"},\"tracegroupgap\":0},\"margin\":{\"t\":60}},                        {\"responsive\": true}                    ).then(function(){\n",
       "                            \n",
       "var gd = document.getElementById('bdadd5c4-b135-4522-95c6-21a01e9c7b53');\n",
       "var x = new MutationObserver(function (mutations, observer) {{\n",
       "        var display = window.getComputedStyle(gd).display;\n",
       "        if (!display || display === 'none') {{\n",
       "            console.log([gd, 'removed!']);\n",
       "            Plotly.purge(gd);\n",
       "            observer.disconnect();\n",
       "        }}\n",
       "}});\n",
       "\n",
       "// Listen for the removal of the full notebook cells\n",
       "var notebookContainer = gd.closest('#notebook-container');\n",
       "if (notebookContainer) {{\n",
       "    x.observe(notebookContainer, {childList: true});\n",
       "}}\n",
       "\n",
       "// Listen for the clearing of the current output cell\n",
       "var outputEl = gd.closest('.output');\n",
       "if (outputEl) {{\n",
       "    x.observe(outputEl, {childList: true});\n",
       "}}\n",
       "\n",
       "                        })                };                });            </script>        </div>"
      ]
     },
     "metadata": {},
     "output_type": "display_data"
    }
   ],
   "source": [
    "# Define the dropdowns with 'All' option\n",
    "manufacturer_dropdown = widgets.Dropdown(options = ['All'] + list(df['Manufacturer'].unique()), description='Manufacturer:')\n",
    "silica_dropdown = widgets.Dropdown(options = ['All'] + list(df['Silica type'].unique()), description='Silica type:')\n",
    "usp_dropdown = widgets.Dropdown(options = ['All'] + list(df['USP type'].unique()), description='USP type:')\n",
    "phase_dropdown = widgets.Dropdown(options = ['All'] + list(df['Phase type'].unique()), description='Phase type:')\n",
    "\n",
    "# Define the text input for search\n",
    "search_input = widgets.Text(description='Search:')\n",
    "\n",
    "# Define a button for the search\n",
    "search_button = widgets.Button(description='Press to search')\n",
    "\n",
    "# Update the update_plot function to use the search input\n",
    "def update_plot(*args):\n",
    "    clear_output(wait=True)  # Clear the previous plot\n",
    "\n",
    "    # Display the dropdowns and the search input\n",
    "    display(manufacturer_dropdown, silica_dropdown, usp_dropdown, phase_dropdown, search_input, search_button)\n",
    "    \n",
    "    filtered_df = df.copy()\n",
    "\n",
    "    # Apply filters if 'All' is not selected\n",
    "    if manufacturer_dropdown.value != 'All':\n",
    "        filtered_df = filtered_df[filtered_df['Manufacturer'] == manufacturer_dropdown.value]\n",
    "    if silica_dropdown.value != 'All':\n",
    "        filtered_df = filtered_df[filtered_df['Silica type'] == silica_dropdown.value]\n",
    "    if usp_dropdown.value != 'All':\n",
    "        filtered_df = filtered_df[filtered_df['USP type'] == usp_dropdown.value]\n",
    "    if phase_dropdown.value != 'All':\n",
    "        filtered_df = filtered_df[filtered_df['Phase type'] == phase_dropdown.value]\n",
    "    \n",
    "    # Highlight the data based on the search input\n",
    "    if search_input.value:\n",
    "        filtered_df['Search result'] = filtered_df['Name'].str.contains(search_input.value, case=False)\n",
    "    else:\n",
    "        filtered_df['Search result'] = False\n",
    "    \n",
    "    fig = px.scatter(filtered_df, x='PC1', y='PC2', hover_data=['Name'], color='Search result')\n",
    "    fig.show()\n",
    "\n",
    "# Add an observer to the search button click event\n",
    "search_button.on_click(update_plot)\n",
    "\n",
    "# Add observers to the dropdowns\n",
    "manufacturer_dropdown.observe(update_plot, 'value')\n",
    "silica_dropdown.observe(update_plot, 'value')\n",
    "usp_dropdown.observe(update_plot, 'value')\n",
    "phase_dropdown.observe(update_plot, 'value')\n",
    "\n",
    "# Display the initial plot\n",
    "update_plot()\n"
   ]
  },
  {
   "cell_type": "code",
   "execution_count": null,
   "id": "3a85181d",
   "metadata": {},
   "outputs": [],
   "source": []
  }
 ],
 "metadata": {
  "kernelspec": {
   "display_name": "Python 3 (ipykernel)",
   "language": "python",
   "name": "python3"
  },
  "language_info": {
   "codemirror_mode": {
    "name": "ipython",
    "version": 3
   },
   "file_extension": ".py",
   "mimetype": "text/x-python",
   "name": "python",
   "nbconvert_exporter": "python",
   "pygments_lexer": "ipython3",
   "version": "3.10.10"
  }
 },
 "nbformat": 4,
 "nbformat_minor": 5
}
